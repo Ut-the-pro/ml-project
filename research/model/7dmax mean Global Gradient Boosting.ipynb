{
 "cells": [
  {
   "cell_type": "code",
   "execution_count": 1,
   "id": "9acc9f9c",
   "metadata": {},
   "outputs": [],
   "source": [
    "# Importing the required libraries\n",
    "import pandas as pd\n",
    "import numpy as np\n",
    "import matplotlib.pyplot as plt\n",
    "import seaborn as sns\n",
    "import xgboost as xgb\n",
    "from sklearn.model_selection import train_test_split\n",
    "from sklearn.metrics import mean_absolute_error, mean_squared_error\n",
    "\n",
    "\n",
    "%matplotlib inline\n",
    "import warnings\n",
    "warnings.filterwarnings('ignore')"
   ]
  },
  {
   "cell_type": "code",
   "execution_count": 2,
   "id": "3ceb033c",
   "metadata": {},
   "outputs": [],
   "source": [
    "data = pd.read_excel('../input/MaxMin Cleaned.xlsx',sheet_name='7dmax mean')"
   ]
  },
  {
   "cell_type": "code",
   "execution_count": 3,
   "id": "267ae77f",
   "metadata": {},
   "outputs": [
    {
     "data": {
      "text/html": [
       "<div>\n",
       "<style scoped>\n",
       "    .dataframe tbody tr th:only-of-type {\n",
       "        vertical-align: middle;\n",
       "    }\n",
       "\n",
       "    .dataframe tbody tr th {\n",
       "        vertical-align: top;\n",
       "    }\n",
       "\n",
       "    .dataframe thead th {\n",
       "        text-align: right;\n",
       "    }\n",
       "</style>\n",
       "<table border=\"1\" class=\"dataframe\">\n",
       "  <thead>\n",
       "    <tr style=\"text-align: right;\">\n",
       "      <th></th>\n",
       "      <th>Lon</th>\n",
       "      <th>Lat</th>\n",
       "      <th>Elevation</th>\n",
       "      <th>State</th>\n",
       "      <th>Average</th>\n",
       "      <th>Zone ID</th>\n",
       "    </tr>\n",
       "  </thead>\n",
       "  <tbody>\n",
       "    <tr>\n",
       "      <th>0</th>\n",
       "      <td>92.40</td>\n",
       "      <td>10.559999</td>\n",
       "      <td>0.359467</td>\n",
       "      <td>Andaman and Nicobar</td>\n",
       "      <td>30.506079</td>\n",
       "      <td>5</td>\n",
       "    </tr>\n",
       "    <tr>\n",
       "      <th>1</th>\n",
       "      <td>92.40</td>\n",
       "      <td>10.679999</td>\n",
       "      <td>0.359467</td>\n",
       "      <td>Andaman and Nicobar</td>\n",
       "      <td>30.502134</td>\n",
       "      <td>5</td>\n",
       "    </tr>\n",
       "    <tr>\n",
       "      <th>2</th>\n",
       "      <td>92.52</td>\n",
       "      <td>10.559999</td>\n",
       "      <td>0.359467</td>\n",
       "      <td>Andaman and Nicobar</td>\n",
       "      <td>30.510609</td>\n",
       "      <td>5</td>\n",
       "    </tr>\n",
       "    <tr>\n",
       "      <th>3</th>\n",
       "      <td>92.52</td>\n",
       "      <td>10.679999</td>\n",
       "      <td>0.359467</td>\n",
       "      <td>Andaman and Nicobar</td>\n",
       "      <td>30.505629</td>\n",
       "      <td>5</td>\n",
       "    </tr>\n",
       "    <tr>\n",
       "      <th>4</th>\n",
       "      <td>92.52</td>\n",
       "      <td>10.799999</td>\n",
       "      <td>0.359467</td>\n",
       "      <td>Andaman and Nicobar</td>\n",
       "      <td>30.507633</td>\n",
       "      <td>5</td>\n",
       "    </tr>\n",
       "  </tbody>\n",
       "</table>\n",
       "</div>"
      ],
      "text/plain": [
       "     Lon        Lat  Elevation                State    Average  Zone ID\n",
       "0  92.40  10.559999   0.359467  Andaman and Nicobar  30.506079        5\n",
       "1  92.40  10.679999   0.359467  Andaman and Nicobar  30.502134        5\n",
       "2  92.52  10.559999   0.359467  Andaman and Nicobar  30.510609        5\n",
       "3  92.52  10.679999   0.359467  Andaman and Nicobar  30.505629        5\n",
       "4  92.52  10.799999   0.359467  Andaman and Nicobar  30.507633        5"
      ]
     },
     "execution_count": 3,
     "metadata": {},
     "output_type": "execute_result"
    }
   ],
   "source": [
    "data.head()"
   ]
  },
  {
   "cell_type": "code",
   "execution_count": 4,
   "id": "cb9b2553",
   "metadata": {},
   "outputs": [
    {
     "name": "stdout",
     "output_type": "stream",
     "text": [
      "<class 'pandas.core.frame.DataFrame'>\n",
      "RangeIndex: 20168 entries, 0 to 20167\n",
      "Data columns (total 6 columns):\n",
      " #   Column     Non-Null Count  Dtype  \n",
      "---  ------     --------------  -----  \n",
      " 0   Lon        20168 non-null  float64\n",
      " 1   Lat        20168 non-null  float64\n",
      " 2   Elevation  20168 non-null  float64\n",
      " 3   State      20168 non-null  object \n",
      " 4   Average    20168 non-null  float64\n",
      " 5   Zone ID    20168 non-null  int64  \n",
      "dtypes: float64(4), int64(1), object(1)\n",
      "memory usage: 945.5+ KB\n"
     ]
    }
   ],
   "source": [
    "data.info()"
   ]
  },
  {
   "cell_type": "markdown",
   "id": "f8672913",
   "metadata": {},
   "source": [
    "# Emperical Cluster Model"
   ]
  },
  {
   "cell_type": "markdown",
   "id": "d13cd038",
   "metadata": {},
   "source": [
    "### As a feature "
   ]
  },
  {
   "cell_type": "code",
   "execution_count": 5,
   "id": "70e59cba",
   "metadata": {},
   "outputs": [],
   "source": [
    "X = data[['Lon', 'Lat', 'Zone ID']]\n",
    "y = data['Average']"
   ]
  },
  {
   "cell_type": "code",
   "execution_count": 6,
   "id": "2206ae2c",
   "metadata": {},
   "outputs": [
    {
     "data": {
      "text/html": [
       "<style>#sk-container-id-1 {color: black;background-color: white;}#sk-container-id-1 pre{padding: 0;}#sk-container-id-1 div.sk-toggleable {background-color: white;}#sk-container-id-1 label.sk-toggleable__label {cursor: pointer;display: block;width: 100%;margin-bottom: 0;padding: 0.3em;box-sizing: border-box;text-align: center;}#sk-container-id-1 label.sk-toggleable__label-arrow:before {content: \"▸\";float: left;margin-right: 0.25em;color: #696969;}#sk-container-id-1 label.sk-toggleable__label-arrow:hover:before {color: black;}#sk-container-id-1 div.sk-estimator:hover label.sk-toggleable__label-arrow:before {color: black;}#sk-container-id-1 div.sk-toggleable__content {max-height: 0;max-width: 0;overflow: hidden;text-align: left;background-color: #f0f8ff;}#sk-container-id-1 div.sk-toggleable__content pre {margin: 0.2em;color: black;border-radius: 0.25em;background-color: #f0f8ff;}#sk-container-id-1 input.sk-toggleable__control:checked~div.sk-toggleable__content {max-height: 200px;max-width: 100%;overflow: auto;}#sk-container-id-1 input.sk-toggleable__control:checked~label.sk-toggleable__label-arrow:before {content: \"▾\";}#sk-container-id-1 div.sk-estimator input.sk-toggleable__control:checked~label.sk-toggleable__label {background-color: #d4ebff;}#sk-container-id-1 div.sk-label input.sk-toggleable__control:checked~label.sk-toggleable__label {background-color: #d4ebff;}#sk-container-id-1 input.sk-hidden--visually {border: 0;clip: rect(1px 1px 1px 1px);clip: rect(1px, 1px, 1px, 1px);height: 1px;margin: -1px;overflow: hidden;padding: 0;position: absolute;width: 1px;}#sk-container-id-1 div.sk-estimator {font-family: monospace;background-color: #f0f8ff;border: 1px dotted black;border-radius: 0.25em;box-sizing: border-box;margin-bottom: 0.5em;}#sk-container-id-1 div.sk-estimator:hover {background-color: #d4ebff;}#sk-container-id-1 div.sk-parallel-item::after {content: \"\";width: 100%;border-bottom: 1px solid gray;flex-grow: 1;}#sk-container-id-1 div.sk-label:hover label.sk-toggleable__label {background-color: #d4ebff;}#sk-container-id-1 div.sk-serial::before {content: \"\";position: absolute;border-left: 1px solid gray;box-sizing: border-box;top: 0;bottom: 0;left: 50%;z-index: 0;}#sk-container-id-1 div.sk-serial {display: flex;flex-direction: column;align-items: center;background-color: white;padding-right: 0.2em;padding-left: 0.2em;position: relative;}#sk-container-id-1 div.sk-item {position: relative;z-index: 1;}#sk-container-id-1 div.sk-parallel {display: flex;align-items: stretch;justify-content: center;background-color: white;position: relative;}#sk-container-id-1 div.sk-item::before, #sk-container-id-1 div.sk-parallel-item::before {content: \"\";position: absolute;border-left: 1px solid gray;box-sizing: border-box;top: 0;bottom: 0;left: 50%;z-index: -1;}#sk-container-id-1 div.sk-parallel-item {display: flex;flex-direction: column;z-index: 1;position: relative;background-color: white;}#sk-container-id-1 div.sk-parallel-item:first-child::after {align-self: flex-end;width: 50%;}#sk-container-id-1 div.sk-parallel-item:last-child::after {align-self: flex-start;width: 50%;}#sk-container-id-1 div.sk-parallel-item:only-child::after {width: 0;}#sk-container-id-1 div.sk-dashed-wrapped {border: 1px dashed gray;margin: 0 0.4em 0.5em 0.4em;box-sizing: border-box;padding-bottom: 0.4em;background-color: white;}#sk-container-id-1 div.sk-label label {font-family: monospace;font-weight: bold;display: inline-block;line-height: 1.2em;}#sk-container-id-1 div.sk-label-container {text-align: center;}#sk-container-id-1 div.sk-container {/* jupyter's `normalize.less` sets `[hidden] { display: none; }` but bootstrap.min.css set `[hidden] { display: none !important; }` so we also need the `!important` here to be able to override the default hidden behavior on the sphinx rendered scikit-learn.org. See: https://github.com/scikit-learn/scikit-learn/issues/21755 */display: inline-block !important;position: relative;}#sk-container-id-1 div.sk-text-repr-fallback {display: none;}</style><div id=\"sk-container-id-1\" class=\"sk-top-container\"><div class=\"sk-text-repr-fallback\"><pre>XGBRegressor(base_score=None, booster=None, callbacks=None,\n",
       "             colsample_bylevel=None, colsample_bynode=None,\n",
       "             colsample_bytree=None, early_stopping_rounds=None,\n",
       "             enable_categorical=False, eval_metric=None, feature_types=None,\n",
       "             gamma=None, gpu_id=None, grow_policy=None, importance_type=None,\n",
       "             interaction_constraints=None, learning_rate=None, max_bin=None,\n",
       "             max_cat_threshold=None, max_cat_to_onehot=None,\n",
       "             max_delta_step=None, max_depth=None, max_leaves=None,\n",
       "             min_child_weight=None, missing=nan, monotone_constraints=None,\n",
       "             n_estimators=100, n_jobs=None, num_parallel_tree=None,\n",
       "             predictor=None, random_state=42, ...)</pre><b>In a Jupyter environment, please rerun this cell to show the HTML representation or trust the notebook. <br />On GitHub, the HTML representation is unable to render, please try loading this page with nbviewer.org.</b></div><div class=\"sk-container\" hidden><div class=\"sk-item\"><div class=\"sk-estimator sk-toggleable\"><input class=\"sk-toggleable__control sk-hidden--visually\" id=\"sk-estimator-id-1\" type=\"checkbox\" checked><label for=\"sk-estimator-id-1\" class=\"sk-toggleable__label sk-toggleable__label-arrow\">XGBRegressor</label><div class=\"sk-toggleable__content\"><pre>XGBRegressor(base_score=None, booster=None, callbacks=None,\n",
       "             colsample_bylevel=None, colsample_bynode=None,\n",
       "             colsample_bytree=None, early_stopping_rounds=None,\n",
       "             enable_categorical=False, eval_metric=None, feature_types=None,\n",
       "             gamma=None, gpu_id=None, grow_policy=None, importance_type=None,\n",
       "             interaction_constraints=None, learning_rate=None, max_bin=None,\n",
       "             max_cat_threshold=None, max_cat_to_onehot=None,\n",
       "             max_delta_step=None, max_depth=None, max_leaves=None,\n",
       "             min_child_weight=None, missing=nan, monotone_constraints=None,\n",
       "             n_estimators=100, n_jobs=None, num_parallel_tree=None,\n",
       "             predictor=None, random_state=42, ...)</pre></div></div></div></div></div>"
      ],
      "text/plain": [
       "XGBRegressor(base_score=None, booster=None, callbacks=None,\n",
       "             colsample_bylevel=None, colsample_bynode=None,\n",
       "             colsample_bytree=None, early_stopping_rounds=None,\n",
       "             enable_categorical=False, eval_metric=None, feature_types=None,\n",
       "             gamma=None, gpu_id=None, grow_policy=None, importance_type=None,\n",
       "             interaction_constraints=None, learning_rate=None, max_bin=None,\n",
       "             max_cat_threshold=None, max_cat_to_onehot=None,\n",
       "             max_delta_step=None, max_depth=None, max_leaves=None,\n",
       "             min_child_weight=None, missing=nan, monotone_constraints=None,\n",
       "             n_estimators=100, n_jobs=None, num_parallel_tree=None,\n",
       "             predictor=None, random_state=42, ...)"
      ]
     },
     "execution_count": 6,
     "metadata": {},
     "output_type": "execute_result"
    }
   ],
   "source": [
    "# Initialize the XGBoost Regressor\n",
    "model = xgb.XGBRegressor(objective ='reg:squarederror', random_state=42)\n",
    "model.fit(X, y)"
   ]
  },
  {
   "cell_type": "code",
   "execution_count": 7,
   "id": "ddb3c4ab",
   "metadata": {},
   "outputs": [
    {
     "name": "stdout",
     "output_type": "stream",
     "text": [
      "Mean Absolute Error (MAE): 0.47020993693056345\n",
      "Mean Squared Error (MSE): 0.47104605684710027\n",
      "Root Mean Squared Error (RMSE): 0.6863279513811894\n"
     ]
    }
   ],
   "source": [
    "y_pred_full = model.predict(X)\n",
    "\n",
    "# Evaluating the model\n",
    "mae = mean_absolute_error(y, y_pred_full)\n",
    "mse = mean_squared_error(y, y_pred_full)\n",
    "rmse = np.sqrt(mse)\n",
    "print(f\"Mean Absolute Error (MAE): {mae}\")\n",
    "print(f\"Mean Squared Error (MSE): {mse}\")\n",
    "print(f\"Root Mean Squared Error (RMSE): {rmse}\")"
   ]
  },
  {
   "cell_type": "code",
   "execution_count": 8,
   "id": "2d60bd83",
   "metadata": {},
   "outputs": [
    {
     "data": {
      "text/html": [
       "<div>\n",
       "<style scoped>\n",
       "    .dataframe tbody tr th:only-of-type {\n",
       "        vertical-align: middle;\n",
       "    }\n",
       "\n",
       "    .dataframe tbody tr th {\n",
       "        vertical-align: top;\n",
       "    }\n",
       "\n",
       "    .dataframe thead th {\n",
       "        text-align: right;\n",
       "    }\n",
       "</style>\n",
       "<table border=\"1\" class=\"dataframe\">\n",
       "  <thead>\n",
       "    <tr style=\"text-align: right;\">\n",
       "      <th></th>\n",
       "      <th>Lon</th>\n",
       "      <th>Lat</th>\n",
       "      <th>Elevation</th>\n",
       "      <th>State</th>\n",
       "      <th>Average</th>\n",
       "      <th>Zone ID</th>\n",
       "      <th>Emperical Cluster Model</th>\n",
       "    </tr>\n",
       "  </thead>\n",
       "  <tbody>\n",
       "    <tr>\n",
       "      <th>0</th>\n",
       "      <td>92.40</td>\n",
       "      <td>10.559999</td>\n",
       "      <td>0.359467</td>\n",
       "      <td>Andaman and Nicobar</td>\n",
       "      <td>30.506079</td>\n",
       "      <td>5</td>\n",
       "      <td>30.405285</td>\n",
       "    </tr>\n",
       "    <tr>\n",
       "      <th>1</th>\n",
       "      <td>92.40</td>\n",
       "      <td>10.679999</td>\n",
       "      <td>0.359467</td>\n",
       "      <td>Andaman and Nicobar</td>\n",
       "      <td>30.502134</td>\n",
       "      <td>5</td>\n",
       "      <td>30.451868</td>\n",
       "    </tr>\n",
       "    <tr>\n",
       "      <th>2</th>\n",
       "      <td>92.52</td>\n",
       "      <td>10.559999</td>\n",
       "      <td>0.359467</td>\n",
       "      <td>Andaman and Nicobar</td>\n",
       "      <td>30.510609</td>\n",
       "      <td>5</td>\n",
       "      <td>30.468330</td>\n",
       "    </tr>\n",
       "    <tr>\n",
       "      <th>3</th>\n",
       "      <td>92.52</td>\n",
       "      <td>10.679999</td>\n",
       "      <td>0.359467</td>\n",
       "      <td>Andaman and Nicobar</td>\n",
       "      <td>30.505629</td>\n",
       "      <td>5</td>\n",
       "      <td>30.549406</td>\n",
       "    </tr>\n",
       "    <tr>\n",
       "      <th>4</th>\n",
       "      <td>92.52</td>\n",
       "      <td>10.799999</td>\n",
       "      <td>0.359467</td>\n",
       "      <td>Andaman and Nicobar</td>\n",
       "      <td>30.507633</td>\n",
       "      <td>5</td>\n",
       "      <td>30.385864</td>\n",
       "    </tr>\n",
       "  </tbody>\n",
       "</table>\n",
       "</div>"
      ],
      "text/plain": [
       "     Lon        Lat  Elevation                State    Average  Zone ID  \\\n",
       "0  92.40  10.559999   0.359467  Andaman and Nicobar  30.506079        5   \n",
       "1  92.40  10.679999   0.359467  Andaman and Nicobar  30.502134        5   \n",
       "2  92.52  10.559999   0.359467  Andaman and Nicobar  30.510609        5   \n",
       "3  92.52  10.679999   0.359467  Andaman and Nicobar  30.505629        5   \n",
       "4  92.52  10.799999   0.359467  Andaman and Nicobar  30.507633        5   \n",
       "\n",
       "   Emperical Cluster Model  \n",
       "0                30.405285  \n",
       "1                30.451868  \n",
       "2                30.468330  \n",
       "3                30.549406  \n",
       "4                30.385864  "
      ]
     },
     "execution_count": 8,
     "metadata": {},
     "output_type": "execute_result"
    }
   ],
   "source": [
    "## Saving to Excel File\n",
    "data['Emperical Cluster Model'] = y_pred_full\n",
    "data.head()"
   ]
  },
  {
   "cell_type": "markdown",
   "id": "4cc84c67",
   "metadata": {},
   "source": [
    "### Sepearte model for each Emperical Cluster"
   ]
  },
  {
   "cell_type": "code",
   "execution_count": 9,
   "id": "18234a8f",
   "metadata": {},
   "outputs": [
    {
     "data": {
      "text/plain": [
       "array([5, 2, 3, 4, 1], dtype=int64)"
      ]
     },
     "execution_count": 9,
     "metadata": {},
     "output_type": "execute_result"
    }
   ],
   "source": [
    "data[\"Zone ID\"].unique()"
   ]
  },
  {
   "cell_type": "code",
   "execution_count": 10,
   "id": "810e4034",
   "metadata": {},
   "outputs": [
    {
     "data": {
      "text/html": [
       "<div>\n",
       "<style scoped>\n",
       "    .dataframe tbody tr th:only-of-type {\n",
       "        vertical-align: middle;\n",
       "    }\n",
       "\n",
       "    .dataframe tbody tr th {\n",
       "        vertical-align: top;\n",
       "    }\n",
       "\n",
       "    .dataframe thead th {\n",
       "        text-align: right;\n",
       "    }\n",
       "</style>\n",
       "<table border=\"1\" class=\"dataframe\">\n",
       "  <thead>\n",
       "    <tr style=\"text-align: right;\">\n",
       "      <th></th>\n",
       "      <th>Lon</th>\n",
       "      <th>Lat</th>\n",
       "      <th>Elevation</th>\n",
       "      <th>State</th>\n",
       "      <th>Average</th>\n",
       "      <th>Zone ID</th>\n",
       "      <th>Emperical Cluster Model Result When Trained on Each Zone Seperately</th>\n",
       "    </tr>\n",
       "  </thead>\n",
       "  <tbody>\n",
       "    <tr>\n",
       "      <th>0</th>\n",
       "      <td>92.40</td>\n",
       "      <td>10.559999</td>\n",
       "      <td>0.359467</td>\n",
       "      <td>Andaman and Nicobar</td>\n",
       "      <td>30.506079</td>\n",
       "      <td>5</td>\n",
       "      <td>30.506233</td>\n",
       "    </tr>\n",
       "    <tr>\n",
       "      <th>1</th>\n",
       "      <td>92.40</td>\n",
       "      <td>10.679999</td>\n",
       "      <td>0.359467</td>\n",
       "      <td>Andaman and Nicobar</td>\n",
       "      <td>30.502134</td>\n",
       "      <td>5</td>\n",
       "      <td>30.503115</td>\n",
       "    </tr>\n",
       "    <tr>\n",
       "      <th>2</th>\n",
       "      <td>92.52</td>\n",
       "      <td>10.559999</td>\n",
       "      <td>0.359467</td>\n",
       "      <td>Andaman and Nicobar</td>\n",
       "      <td>30.510609</td>\n",
       "      <td>5</td>\n",
       "      <td>30.509087</td>\n",
       "    </tr>\n",
       "    <tr>\n",
       "      <th>3</th>\n",
       "      <td>92.52</td>\n",
       "      <td>10.679999</td>\n",
       "      <td>0.359467</td>\n",
       "      <td>Andaman and Nicobar</td>\n",
       "      <td>30.505629</td>\n",
       "      <td>5</td>\n",
       "      <td>30.506357</td>\n",
       "    </tr>\n",
       "    <tr>\n",
       "      <th>4</th>\n",
       "      <td>92.52</td>\n",
       "      <td>10.799999</td>\n",
       "      <td>0.359467</td>\n",
       "      <td>Andaman and Nicobar</td>\n",
       "      <td>30.507633</td>\n",
       "      <td>5</td>\n",
       "      <td>30.507170</td>\n",
       "    </tr>\n",
       "  </tbody>\n",
       "</table>\n",
       "</div>"
      ],
      "text/plain": [
       "     Lon        Lat  Elevation                State    Average  Zone ID  \\\n",
       "0  92.40  10.559999   0.359467  Andaman and Nicobar  30.506079        5   \n",
       "1  92.40  10.679999   0.359467  Andaman and Nicobar  30.502134        5   \n",
       "2  92.52  10.559999   0.359467  Andaman and Nicobar  30.510609        5   \n",
       "3  92.52  10.679999   0.359467  Andaman and Nicobar  30.505629        5   \n",
       "4  92.52  10.799999   0.359467  Andaman and Nicobar  30.507633        5   \n",
       "\n",
       "   Emperical Cluster Model Result When Trained on Each Zone Seperately  \n",
       "0                                          30.506233                    \n",
       "1                                          30.503115                    \n",
       "2                                          30.509087                    \n",
       "3                                          30.506357                    \n",
       "4                                          30.507170                    "
      ]
     },
     "execution_count": 10,
     "metadata": {},
     "output_type": "execute_result"
    }
   ],
   "source": [
    "emperical_model = pd.DataFrame()\n",
    "for ZoneID in data[\"Zone ID\"].unique():\n",
    "        cluster_data = data[data[\"Zone ID\"] == ZoneID]\n",
    "        X_cluster = cluster_data[['Lat', 'Lon']]\n",
    "        y_cluster = cluster_data['Average']\n",
    "\n",
    "        model = xgb.XGBRegressor(objective ='reg:squarederror', random_state=42)\n",
    "        model.fit(X_cluster, y_cluster)\n",
    "        y_pred = model.predict(X_cluster)\n",
    "        \n",
    "        temp = cluster_data[[\"Lon\", \"Lat\", \"Elevation\", \"State\", \"Average\", \"Zone ID\"]]\n",
    "        temp[\"Emperical Cluster Model Result When Trained on Each Zone Seperately\"] = y_pred\n",
    "        emperical_model = pd.concat([emperical_model, temp])\n",
    "        \n",
    "\n",
    "emperical_model.head()\n",
    "    \n"
   ]
  },
  {
   "cell_type": "code",
   "execution_count": 11,
   "id": "f56b47e2",
   "metadata": {},
   "outputs": [
    {
     "data": {
      "text/html": [
       "<div>\n",
       "<style scoped>\n",
       "    .dataframe tbody tr th:only-of-type {\n",
       "        vertical-align: middle;\n",
       "    }\n",
       "\n",
       "    .dataframe tbody tr th {\n",
       "        vertical-align: top;\n",
       "    }\n",
       "\n",
       "    .dataframe thead th {\n",
       "        text-align: right;\n",
       "    }\n",
       "</style>\n",
       "<table border=\"1\" class=\"dataframe\">\n",
       "  <thead>\n",
       "    <tr style=\"text-align: right;\">\n",
       "      <th></th>\n",
       "      <th>Lon</th>\n",
       "      <th>Lat</th>\n",
       "      <th>Elevation</th>\n",
       "      <th>State</th>\n",
       "      <th>Average</th>\n",
       "      <th>Zone ID</th>\n",
       "      <th>Emperical Cluster Model</th>\n",
       "    </tr>\n",
       "  </thead>\n",
       "  <tbody>\n",
       "    <tr>\n",
       "      <th>0</th>\n",
       "      <td>92.40</td>\n",
       "      <td>10.559999</td>\n",
       "      <td>0.359467</td>\n",
       "      <td>Andaman and Nicobar</td>\n",
       "      <td>30.506079</td>\n",
       "      <td>5</td>\n",
       "      <td>30.405285</td>\n",
       "    </tr>\n",
       "    <tr>\n",
       "      <th>1</th>\n",
       "      <td>92.40</td>\n",
       "      <td>10.679999</td>\n",
       "      <td>0.359467</td>\n",
       "      <td>Andaman and Nicobar</td>\n",
       "      <td>30.502134</td>\n",
       "      <td>5</td>\n",
       "      <td>30.451868</td>\n",
       "    </tr>\n",
       "    <tr>\n",
       "      <th>2</th>\n",
       "      <td>92.52</td>\n",
       "      <td>10.559999</td>\n",
       "      <td>0.359467</td>\n",
       "      <td>Andaman and Nicobar</td>\n",
       "      <td>30.510609</td>\n",
       "      <td>5</td>\n",
       "      <td>30.468330</td>\n",
       "    </tr>\n",
       "    <tr>\n",
       "      <th>3</th>\n",
       "      <td>92.52</td>\n",
       "      <td>10.679999</td>\n",
       "      <td>0.359467</td>\n",
       "      <td>Andaman and Nicobar</td>\n",
       "      <td>30.505629</td>\n",
       "      <td>5</td>\n",
       "      <td>30.549406</td>\n",
       "    </tr>\n",
       "    <tr>\n",
       "      <th>4</th>\n",
       "      <td>92.52</td>\n",
       "      <td>10.799999</td>\n",
       "      <td>0.359467</td>\n",
       "      <td>Andaman and Nicobar</td>\n",
       "      <td>30.507633</td>\n",
       "      <td>5</td>\n",
       "      <td>30.385864</td>\n",
       "    </tr>\n",
       "  </tbody>\n",
       "</table>\n",
       "</div>"
      ],
      "text/plain": [
       "     Lon        Lat  Elevation                State    Average  Zone ID  \\\n",
       "0  92.40  10.559999   0.359467  Andaman and Nicobar  30.506079        5   \n",
       "1  92.40  10.679999   0.359467  Andaman and Nicobar  30.502134        5   \n",
       "2  92.52  10.559999   0.359467  Andaman and Nicobar  30.510609        5   \n",
       "3  92.52  10.679999   0.359467  Andaman and Nicobar  30.505629        5   \n",
       "4  92.52  10.799999   0.359467  Andaman and Nicobar  30.507633        5   \n",
       "\n",
       "   Emperical Cluster Model  \n",
       "0                30.405285  \n",
       "1                30.451868  \n",
       "2                30.468330  \n",
       "3                30.549406  \n",
       "4                30.385864  "
      ]
     },
     "execution_count": 11,
     "metadata": {},
     "output_type": "execute_result"
    }
   ],
   "source": [
    "data.head()"
   ]
  },
  {
   "cell_type": "markdown",
   "id": "26532b58",
   "metadata": {},
   "source": [
    "# Global Model"
   ]
  },
  {
   "cell_type": "code",
   "execution_count": 12,
   "id": "0625585d",
   "metadata": {},
   "outputs": [],
   "source": [
    "X = data[['Lon', 'Lat']]\n",
    "y = data['Average']"
   ]
  },
  {
   "cell_type": "code",
   "execution_count": 13,
   "id": "408cb38b",
   "metadata": {},
   "outputs": [
    {
     "data": {
      "text/html": [
       "<div>\n",
       "<style scoped>\n",
       "    .dataframe tbody tr th:only-of-type {\n",
       "        vertical-align: middle;\n",
       "    }\n",
       "\n",
       "    .dataframe tbody tr th {\n",
       "        vertical-align: top;\n",
       "    }\n",
       "\n",
       "    .dataframe thead th {\n",
       "        text-align: right;\n",
       "    }\n",
       "</style>\n",
       "<table border=\"1\" class=\"dataframe\">\n",
       "  <thead>\n",
       "    <tr style=\"text-align: right;\">\n",
       "      <th></th>\n",
       "      <th>Lon</th>\n",
       "      <th>Lat</th>\n",
       "    </tr>\n",
       "  </thead>\n",
       "  <tbody>\n",
       "    <tr>\n",
       "      <th>0</th>\n",
       "      <td>92.40</td>\n",
       "      <td>10.559999</td>\n",
       "    </tr>\n",
       "    <tr>\n",
       "      <th>1</th>\n",
       "      <td>92.40</td>\n",
       "      <td>10.679999</td>\n",
       "    </tr>\n",
       "    <tr>\n",
       "      <th>2</th>\n",
       "      <td>92.52</td>\n",
       "      <td>10.559999</td>\n",
       "    </tr>\n",
       "    <tr>\n",
       "      <th>3</th>\n",
       "      <td>92.52</td>\n",
       "      <td>10.679999</td>\n",
       "    </tr>\n",
       "    <tr>\n",
       "      <th>4</th>\n",
       "      <td>92.52</td>\n",
       "      <td>10.799999</td>\n",
       "    </tr>\n",
       "  </tbody>\n",
       "</table>\n",
       "</div>"
      ],
      "text/plain": [
       "     Lon        Lat\n",
       "0  92.40  10.559999\n",
       "1  92.40  10.679999\n",
       "2  92.52  10.559999\n",
       "3  92.52  10.679999\n",
       "4  92.52  10.799999"
      ]
     },
     "execution_count": 13,
     "metadata": {},
     "output_type": "execute_result"
    }
   ],
   "source": [
    "X.head()"
   ]
  },
  {
   "cell_type": "code",
   "execution_count": 14,
   "id": "1dabfcc2",
   "metadata": {},
   "outputs": [
    {
     "name": "stdout",
     "output_type": "stream",
     "text": [
      "<class 'pandas.core.frame.DataFrame'>\n",
      "RangeIndex: 20168 entries, 0 to 20167\n",
      "Data columns (total 2 columns):\n",
      " #   Column  Non-Null Count  Dtype  \n",
      "---  ------  --------------  -----  \n",
      " 0   Lon     20168 non-null  float64\n",
      " 1   Lat     20168 non-null  float64\n",
      "dtypes: float64(2)\n",
      "memory usage: 315.2 KB\n"
     ]
    }
   ],
   "source": [
    "X.info()"
   ]
  },
  {
   "cell_type": "code",
   "execution_count": 15,
   "id": "d2a859b5",
   "metadata": {},
   "outputs": [
    {
     "data": {
      "text/plain": [
       "0    30.506079\n",
       "1    30.502134\n",
       "2    30.510609\n",
       "3    30.505629\n",
       "4    30.507633\n",
       "Name: Average, dtype: float64"
      ]
     },
     "execution_count": 15,
     "metadata": {},
     "output_type": "execute_result"
    }
   ],
   "source": [
    "y.head()"
   ]
  },
  {
   "cell_type": "code",
   "execution_count": 16,
   "id": "6f2f48a5",
   "metadata": {},
   "outputs": [
    {
     "name": "stdout",
     "output_type": "stream",
     "text": [
      "<class 'pandas.core.series.Series'>\n",
      "RangeIndex: 20168 entries, 0 to 20167\n",
      "Series name: Average\n",
      "Non-Null Count  Dtype  \n",
      "--------------  -----  \n",
      "20168 non-null  float64\n",
      "dtypes: float64(1)\n",
      "memory usage: 157.7 KB\n"
     ]
    }
   ],
   "source": [
    "y.info()"
   ]
  },
  {
   "cell_type": "code",
   "execution_count": 17,
   "id": "554dd430",
   "metadata": {},
   "outputs": [],
   "source": [
    "# Initialize the XGBoost Regressor\n",
    "model = xgb.XGBRegressor(objective ='reg:squarederror', random_state=42)"
   ]
  },
  {
   "cell_type": "code",
   "execution_count": 18,
   "id": "f9bf6700",
   "metadata": {},
   "outputs": [
    {
     "data": {
      "text/html": [
       "<style>#sk-container-id-2 {color: black;background-color: white;}#sk-container-id-2 pre{padding: 0;}#sk-container-id-2 div.sk-toggleable {background-color: white;}#sk-container-id-2 label.sk-toggleable__label {cursor: pointer;display: block;width: 100%;margin-bottom: 0;padding: 0.3em;box-sizing: border-box;text-align: center;}#sk-container-id-2 label.sk-toggleable__label-arrow:before {content: \"▸\";float: left;margin-right: 0.25em;color: #696969;}#sk-container-id-2 label.sk-toggleable__label-arrow:hover:before {color: black;}#sk-container-id-2 div.sk-estimator:hover label.sk-toggleable__label-arrow:before {color: black;}#sk-container-id-2 div.sk-toggleable__content {max-height: 0;max-width: 0;overflow: hidden;text-align: left;background-color: #f0f8ff;}#sk-container-id-2 div.sk-toggleable__content pre {margin: 0.2em;color: black;border-radius: 0.25em;background-color: #f0f8ff;}#sk-container-id-2 input.sk-toggleable__control:checked~div.sk-toggleable__content {max-height: 200px;max-width: 100%;overflow: auto;}#sk-container-id-2 input.sk-toggleable__control:checked~label.sk-toggleable__label-arrow:before {content: \"▾\";}#sk-container-id-2 div.sk-estimator input.sk-toggleable__control:checked~label.sk-toggleable__label {background-color: #d4ebff;}#sk-container-id-2 div.sk-label input.sk-toggleable__control:checked~label.sk-toggleable__label {background-color: #d4ebff;}#sk-container-id-2 input.sk-hidden--visually {border: 0;clip: rect(1px 1px 1px 1px);clip: rect(1px, 1px, 1px, 1px);height: 1px;margin: -1px;overflow: hidden;padding: 0;position: absolute;width: 1px;}#sk-container-id-2 div.sk-estimator {font-family: monospace;background-color: #f0f8ff;border: 1px dotted black;border-radius: 0.25em;box-sizing: border-box;margin-bottom: 0.5em;}#sk-container-id-2 div.sk-estimator:hover {background-color: #d4ebff;}#sk-container-id-2 div.sk-parallel-item::after {content: \"\";width: 100%;border-bottom: 1px solid gray;flex-grow: 1;}#sk-container-id-2 div.sk-label:hover label.sk-toggleable__label {background-color: #d4ebff;}#sk-container-id-2 div.sk-serial::before {content: \"\";position: absolute;border-left: 1px solid gray;box-sizing: border-box;top: 0;bottom: 0;left: 50%;z-index: 0;}#sk-container-id-2 div.sk-serial {display: flex;flex-direction: column;align-items: center;background-color: white;padding-right: 0.2em;padding-left: 0.2em;position: relative;}#sk-container-id-2 div.sk-item {position: relative;z-index: 1;}#sk-container-id-2 div.sk-parallel {display: flex;align-items: stretch;justify-content: center;background-color: white;position: relative;}#sk-container-id-2 div.sk-item::before, #sk-container-id-2 div.sk-parallel-item::before {content: \"\";position: absolute;border-left: 1px solid gray;box-sizing: border-box;top: 0;bottom: 0;left: 50%;z-index: -1;}#sk-container-id-2 div.sk-parallel-item {display: flex;flex-direction: column;z-index: 1;position: relative;background-color: white;}#sk-container-id-2 div.sk-parallel-item:first-child::after {align-self: flex-end;width: 50%;}#sk-container-id-2 div.sk-parallel-item:last-child::after {align-self: flex-start;width: 50%;}#sk-container-id-2 div.sk-parallel-item:only-child::after {width: 0;}#sk-container-id-2 div.sk-dashed-wrapped {border: 1px dashed gray;margin: 0 0.4em 0.5em 0.4em;box-sizing: border-box;padding-bottom: 0.4em;background-color: white;}#sk-container-id-2 div.sk-label label {font-family: monospace;font-weight: bold;display: inline-block;line-height: 1.2em;}#sk-container-id-2 div.sk-label-container {text-align: center;}#sk-container-id-2 div.sk-container {/* jupyter's `normalize.less` sets `[hidden] { display: none; }` but bootstrap.min.css set `[hidden] { display: none !important; }` so we also need the `!important` here to be able to override the default hidden behavior on the sphinx rendered scikit-learn.org. See: https://github.com/scikit-learn/scikit-learn/issues/21755 */display: inline-block !important;position: relative;}#sk-container-id-2 div.sk-text-repr-fallback {display: none;}</style><div id=\"sk-container-id-2\" class=\"sk-top-container\"><div class=\"sk-text-repr-fallback\"><pre>XGBRegressor(base_score=None, booster=None, callbacks=None,\n",
       "             colsample_bylevel=None, colsample_bynode=None,\n",
       "             colsample_bytree=None, early_stopping_rounds=None,\n",
       "             enable_categorical=False, eval_metric=None, feature_types=None,\n",
       "             gamma=None, gpu_id=None, grow_policy=None, importance_type=None,\n",
       "             interaction_constraints=None, learning_rate=None, max_bin=None,\n",
       "             max_cat_threshold=None, max_cat_to_onehot=None,\n",
       "             max_delta_step=None, max_depth=None, max_leaves=None,\n",
       "             min_child_weight=None, missing=nan, monotone_constraints=None,\n",
       "             n_estimators=100, n_jobs=None, num_parallel_tree=None,\n",
       "             predictor=None, random_state=42, ...)</pre><b>In a Jupyter environment, please rerun this cell to show the HTML representation or trust the notebook. <br />On GitHub, the HTML representation is unable to render, please try loading this page with nbviewer.org.</b></div><div class=\"sk-container\" hidden><div class=\"sk-item\"><div class=\"sk-estimator sk-toggleable\"><input class=\"sk-toggleable__control sk-hidden--visually\" id=\"sk-estimator-id-2\" type=\"checkbox\" checked><label for=\"sk-estimator-id-2\" class=\"sk-toggleable__label sk-toggleable__label-arrow\">XGBRegressor</label><div class=\"sk-toggleable__content\"><pre>XGBRegressor(base_score=None, booster=None, callbacks=None,\n",
       "             colsample_bylevel=None, colsample_bynode=None,\n",
       "             colsample_bytree=None, early_stopping_rounds=None,\n",
       "             enable_categorical=False, eval_metric=None, feature_types=None,\n",
       "             gamma=None, gpu_id=None, grow_policy=None, importance_type=None,\n",
       "             interaction_constraints=None, learning_rate=None, max_bin=None,\n",
       "             max_cat_threshold=None, max_cat_to_onehot=None,\n",
       "             max_delta_step=None, max_depth=None, max_leaves=None,\n",
       "             min_child_weight=None, missing=nan, monotone_constraints=None,\n",
       "             n_estimators=100, n_jobs=None, num_parallel_tree=None,\n",
       "             predictor=None, random_state=42, ...)</pre></div></div></div></div></div>"
      ],
      "text/plain": [
       "XGBRegressor(base_score=None, booster=None, callbacks=None,\n",
       "             colsample_bylevel=None, colsample_bynode=None,\n",
       "             colsample_bytree=None, early_stopping_rounds=None,\n",
       "             enable_categorical=False, eval_metric=None, feature_types=None,\n",
       "             gamma=None, gpu_id=None, grow_policy=None, importance_type=None,\n",
       "             interaction_constraints=None, learning_rate=None, max_bin=None,\n",
       "             max_cat_threshold=None, max_cat_to_onehot=None,\n",
       "             max_delta_step=None, max_depth=None, max_leaves=None,\n",
       "             min_child_weight=None, missing=nan, monotone_constraints=None,\n",
       "             n_estimators=100, n_jobs=None, num_parallel_tree=None,\n",
       "             predictor=None, random_state=42, ...)"
      ]
     },
     "execution_count": 18,
     "metadata": {},
     "output_type": "execute_result"
    }
   ],
   "source": [
    "model.fit(X, y)"
   ]
  },
  {
   "cell_type": "code",
   "execution_count": 19,
   "id": "76b92444",
   "metadata": {},
   "outputs": [
    {
     "data": {
      "text/plain": [
       "20168"
      ]
     },
     "execution_count": 19,
     "metadata": {},
     "output_type": "execute_result"
    }
   ],
   "source": [
    "y_pred_full = model.predict(X)\n",
    "len(y_pred_full)"
   ]
  },
  {
   "cell_type": "code",
   "execution_count": 20,
   "id": "6ab5c0a4",
   "metadata": {},
   "outputs": [
    {
     "name": "stdout",
     "output_type": "stream",
     "text": [
      "Mean Absolute Error (MAE): 0.4622299681346314\n",
      "Mean Squared Error (MSE): 0.45958860128168544\n",
      "Root Mean Squared Error (RMSE): 0.6779296433124056\n"
     ]
    }
   ],
   "source": [
    "# Evaluating the model\n",
    "mae = mean_absolute_error(y, y_pred_full)\n",
    "mse = mean_squared_error(y, y_pred_full)\n",
    "rmse = np.sqrt(mse)\n",
    "print(f\"Mean Absolute Error (MAE): {mae}\")\n",
    "print(f\"Mean Squared Error (MSE): {mse}\")\n",
    "print(f\"Root Mean Squared Error (RMSE): {rmse}\")"
   ]
  },
  {
   "cell_type": "code",
   "execution_count": 21,
   "id": "4457d6c9",
   "metadata": {},
   "outputs": [
    {
     "data": {
      "image/png": "[encoded data removed]",
      "text/plain": [
       "<Figure size 1000x600 with 1 Axes>"
      ]
     },
     "metadata": {},
     "output_type": "display_data"
    }
   ],
   "source": [
    "# Plotting the predicted vs actual values\n",
    "plt.figure(figsize=(10, 6))\n",
    "sns.scatterplot(x=y, y=y_pred_full)\n",
    "plt.xlabel('Actual Temperature')\n",
    "plt.ylabel('Predicted Temperature')\n",
    "plt.title('Actual vs Predicted Temperature')\n",
    "# Perfect predictions\n",
    "plt.plot(y,y,'r')\n",
    "plt.show()"
   ]
  },
  {
   "cell_type": "code",
   "execution_count": 22,
   "id": "914988ef",
   "metadata": {},
   "outputs": [
    {
     "data": {
      "image/png": "[encoded data removed]",
      "text/plain": [
       "<Figure size 1000x600 with 1 Axes>"
      ]
     },
     "metadata": {},
     "output_type": "display_data"
    }
   ],
   "source": [
    "# Analyzing residuals\n",
    "residuals = y - y_pred_full\n",
    "plt.figure(figsize=(10, 6))\n",
    "sns.histplot(residuals, kde=True)\n",
    "plt.xlabel('Residuals')\n",
    "plt.ylabel('Frequency')\n",
    "plt.title('Distribution of Residuals')\n",
    "plt.show()"
   ]
  },
  {
   "cell_type": "code",
   "execution_count": 23,
   "id": "2fc73b4b",
   "metadata": {},
   "outputs": [],
   "source": [
    "## Saving to Excel File\n",
    "data['Global Model'] = y_pred_full"
   ]
  },
  {
   "cell_type": "code",
   "execution_count": 24,
   "id": "e0e7f817",
   "metadata": {},
   "outputs": [
    {
     "data": {
      "text/html": [
       "<div>\n",
       "<style scoped>\n",
       "    .dataframe tbody tr th:only-of-type {\n",
       "        vertical-align: middle;\n",
       "    }\n",
       "\n",
       "    .dataframe tbody tr th {\n",
       "        vertical-align: top;\n",
       "    }\n",
       "\n",
       "    .dataframe thead th {\n",
       "        text-align: right;\n",
       "    }\n",
       "</style>\n",
       "<table border=\"1\" class=\"dataframe\">\n",
       "  <thead>\n",
       "    <tr style=\"text-align: right;\">\n",
       "      <th></th>\n",
       "      <th>Lon</th>\n",
       "      <th>Lat</th>\n",
       "      <th>Elevation</th>\n",
       "      <th>State</th>\n",
       "      <th>Average</th>\n",
       "      <th>Zone ID</th>\n",
       "      <th>Emperical Cluster Model</th>\n",
       "      <th>Global Model</th>\n",
       "    </tr>\n",
       "  </thead>\n",
       "  <tbody>\n",
       "    <tr>\n",
       "      <th>0</th>\n",
       "      <td>92.40</td>\n",
       "      <td>10.559999</td>\n",
       "      <td>0.359467</td>\n",
       "      <td>Andaman and Nicobar</td>\n",
       "      <td>30.506079</td>\n",
       "      <td>5</td>\n",
       "      <td>30.405285</td>\n",
       "      <td>30.402090</td>\n",
       "    </tr>\n",
       "    <tr>\n",
       "      <th>1</th>\n",
       "      <td>92.40</td>\n",
       "      <td>10.679999</td>\n",
       "      <td>0.359467</td>\n",
       "      <td>Andaman and Nicobar</td>\n",
       "      <td>30.502134</td>\n",
       "      <td>5</td>\n",
       "      <td>30.451868</td>\n",
       "      <td>30.444416</td>\n",
       "    </tr>\n",
       "    <tr>\n",
       "      <th>2</th>\n",
       "      <td>92.52</td>\n",
       "      <td>10.559999</td>\n",
       "      <td>0.359467</td>\n",
       "      <td>Andaman and Nicobar</td>\n",
       "      <td>30.510609</td>\n",
       "      <td>5</td>\n",
       "      <td>30.468330</td>\n",
       "      <td>30.573109</td>\n",
       "    </tr>\n",
       "    <tr>\n",
       "      <th>3</th>\n",
       "      <td>92.52</td>\n",
       "      <td>10.679999</td>\n",
       "      <td>0.359467</td>\n",
       "      <td>Andaman and Nicobar</td>\n",
       "      <td>30.505629</td>\n",
       "      <td>5</td>\n",
       "      <td>30.549406</td>\n",
       "      <td>30.615435</td>\n",
       "    </tr>\n",
       "    <tr>\n",
       "      <th>4</th>\n",
       "      <td>92.52</td>\n",
       "      <td>10.799999</td>\n",
       "      <td>0.359467</td>\n",
       "      <td>Andaman and Nicobar</td>\n",
       "      <td>30.507633</td>\n",
       "      <td>5</td>\n",
       "      <td>30.385864</td>\n",
       "      <td>30.616985</td>\n",
       "    </tr>\n",
       "  </tbody>\n",
       "</table>\n",
       "</div>"
      ],
      "text/plain": [
       "     Lon        Lat  Elevation                State    Average  Zone ID  \\\n",
       "0  92.40  10.559999   0.359467  Andaman and Nicobar  30.506079        5   \n",
       "1  92.40  10.679999   0.359467  Andaman and Nicobar  30.502134        5   \n",
       "2  92.52  10.559999   0.359467  Andaman and Nicobar  30.510609        5   \n",
       "3  92.52  10.679999   0.359467  Andaman and Nicobar  30.505629        5   \n",
       "4  92.52  10.799999   0.359467  Andaman and Nicobar  30.507633        5   \n",
       "\n",
       "   Emperical Cluster Model  Global Model  \n",
       "0                30.405285     30.402090  \n",
       "1                30.451868     30.444416  \n",
       "2                30.468330     30.573109  \n",
       "3                30.549406     30.615435  \n",
       "4                30.385864     30.616985  "
      ]
     },
     "execution_count": 24,
     "metadata": {},
     "output_type": "execute_result"
    }
   ],
   "source": [
    "data.head()"
   ]
  },
  {
   "cell_type": "markdown",
   "id": "ce267aa9",
   "metadata": {},
   "source": [
    "# State Wise Modal"
   ]
  },
  {
   "cell_type": "code",
   "execution_count": 25,
   "id": "3a645227",
   "metadata": {},
   "outputs": [],
   "source": [
    "X = data[['Lon', 'Lat', 'State']]\n",
    "Y = ['Average']"
   ]
  },
  {
   "cell_type": "code",
   "execution_count": 26,
   "id": "8729f0a8",
   "metadata": {},
   "outputs": [
    {
     "data": {
      "text/html": [
       "<div>\n",
       "<style scoped>\n",
       "    .dataframe tbody tr th:only-of-type {\n",
       "        vertical-align: middle;\n",
       "    }\n",
       "\n",
       "    .dataframe tbody tr th {\n",
       "        vertical-align: top;\n",
       "    }\n",
       "\n",
       "    .dataframe thead th {\n",
       "        text-align: right;\n",
       "    }\n",
       "</style>\n",
       "<table border=\"1\" class=\"dataframe\">\n",
       "  <thead>\n",
       "    <tr style=\"text-align: right;\">\n",
       "      <th></th>\n",
       "      <th>Lon</th>\n",
       "      <th>Lat</th>\n",
       "      <th>State</th>\n",
       "    </tr>\n",
       "  </thead>\n",
       "  <tbody>\n",
       "    <tr>\n",
       "      <th>0</th>\n",
       "      <td>92.40</td>\n",
       "      <td>10.559999</td>\n",
       "      <td>Andaman and Nicobar</td>\n",
       "    </tr>\n",
       "    <tr>\n",
       "      <th>1</th>\n",
       "      <td>92.40</td>\n",
       "      <td>10.679999</td>\n",
       "      <td>Andaman and Nicobar</td>\n",
       "    </tr>\n",
       "    <tr>\n",
       "      <th>2</th>\n",
       "      <td>92.52</td>\n",
       "      <td>10.559999</td>\n",
       "      <td>Andaman and Nicobar</td>\n",
       "    </tr>\n",
       "    <tr>\n",
       "      <th>3</th>\n",
       "      <td>92.52</td>\n",
       "      <td>10.679999</td>\n",
       "      <td>Andaman and Nicobar</td>\n",
       "    </tr>\n",
       "    <tr>\n",
       "      <th>4</th>\n",
       "      <td>92.52</td>\n",
       "      <td>10.799999</td>\n",
       "      <td>Andaman and Nicobar</td>\n",
       "    </tr>\n",
       "  </tbody>\n",
       "</table>\n",
       "</div>"
      ],
      "text/plain": [
       "     Lon        Lat                State\n",
       "0  92.40  10.559999  Andaman and Nicobar\n",
       "1  92.40  10.679999  Andaman and Nicobar\n",
       "2  92.52  10.559999  Andaman and Nicobar\n",
       "3  92.52  10.679999  Andaman and Nicobar\n",
       "4  92.52  10.799999  Andaman and Nicobar"
      ]
     },
     "execution_count": 26,
     "metadata": {},
     "output_type": "execute_result"
    }
   ],
   "source": [
    "X.head()"
   ]
  },
  {
   "cell_type": "code",
   "execution_count": 27,
   "id": "3ab561d7",
   "metadata": {},
   "outputs": [],
   "source": [
    "from sklearn.preprocessing import OneHotEncoder"
   ]
  },
  {
   "cell_type": "code",
   "execution_count": 28,
   "id": "91fca9b6",
   "metadata": {},
   "outputs": [],
   "source": [
    "# Use one-hot encoding to convert the categorical variable 'State' into binary features\n",
    "encoder = OneHotEncoder(sparse=False, drop='first')\n",
    "X_encoded = pd.DataFrame(encoder.fit_transform(X[['State']]), columns=encoder.get_feature_names_out(['State']))\n",
    "X = pd.concat([X.drop(columns=['State']), X_encoded], axis=1)\n"
   ]
  },
  {
   "cell_type": "code",
   "execution_count": 29,
   "id": "156b01d4",
   "metadata": {},
   "outputs": [
    {
     "data": {
      "text/html": [
       "<div>\n",
       "<style scoped>\n",
       "    .dataframe tbody tr th:only-of-type {\n",
       "        vertical-align: middle;\n",
       "    }\n",
       "\n",
       "    .dataframe tbody tr th {\n",
       "        vertical-align: top;\n",
       "    }\n",
       "\n",
       "    .dataframe thead th {\n",
       "        text-align: right;\n",
       "    }\n",
       "</style>\n",
       "<table border=\"1\" class=\"dataframe\">\n",
       "  <thead>\n",
       "    <tr style=\"text-align: right;\">\n",
       "      <th></th>\n",
       "      <th>Lon</th>\n",
       "      <th>Lat</th>\n",
       "      <th>State_Andhra Pradesh</th>\n",
       "      <th>State_Arunachal Pradesh</th>\n",
       "      <th>State_Assam</th>\n",
       "      <th>State_Bihar</th>\n",
       "      <th>State_Chandigarh</th>\n",
       "      <th>State_Chhattisgarh</th>\n",
       "      <th>State_Dadra and Nagar Haveli</th>\n",
       "      <th>State_Daman and Diu</th>\n",
       "      <th>...</th>\n",
       "      <th>State_Puducherry</th>\n",
       "      <th>State_Punjab</th>\n",
       "      <th>State_Rajasthan</th>\n",
       "      <th>State_Sikkim</th>\n",
       "      <th>State_Tamil Nadu</th>\n",
       "      <th>State_Telangana</th>\n",
       "      <th>State_Tripura</th>\n",
       "      <th>State_Uttar Pradesh</th>\n",
       "      <th>State_Uttaranchal</th>\n",
       "      <th>State_West Bengal</th>\n",
       "    </tr>\n",
       "  </thead>\n",
       "  <tbody>\n",
       "    <tr>\n",
       "      <th>0</th>\n",
       "      <td>92.40</td>\n",
       "      <td>10.559999</td>\n",
       "      <td>0.0</td>\n",
       "      <td>0.0</td>\n",
       "      <td>0.0</td>\n",
       "      <td>0.0</td>\n",
       "      <td>0.0</td>\n",
       "      <td>0.0</td>\n",
       "      <td>0.0</td>\n",
       "      <td>0.0</td>\n",
       "      <td>...</td>\n",
       "      <td>0.0</td>\n",
       "      <td>0.0</td>\n",
       "      <td>0.0</td>\n",
       "      <td>0.0</td>\n",
       "      <td>0.0</td>\n",
       "      <td>0.0</td>\n",
       "      <td>0.0</td>\n",
       "      <td>0.0</td>\n",
       "      <td>0.0</td>\n",
       "      <td>0.0</td>\n",
       "    </tr>\n",
       "    <tr>\n",
       "      <th>1</th>\n",
       "      <td>92.40</td>\n",
       "      <td>10.679999</td>\n",
       "      <td>0.0</td>\n",
       "      <td>0.0</td>\n",
       "      <td>0.0</td>\n",
       "      <td>0.0</td>\n",
       "      <td>0.0</td>\n",
       "      <td>0.0</td>\n",
       "      <td>0.0</td>\n",
       "      <td>0.0</td>\n",
       "      <td>...</td>\n",
       "      <td>0.0</td>\n",
       "      <td>0.0</td>\n",
       "      <td>0.0</td>\n",
       "      <td>0.0</td>\n",
       "      <td>0.0</td>\n",
       "      <td>0.0</td>\n",
       "      <td>0.0</td>\n",
       "      <td>0.0</td>\n",
       "      <td>0.0</td>\n",
       "      <td>0.0</td>\n",
       "    </tr>\n",
       "    <tr>\n",
       "      <th>2</th>\n",
       "      <td>92.52</td>\n",
       "      <td>10.559999</td>\n",
       "      <td>0.0</td>\n",
       "      <td>0.0</td>\n",
       "      <td>0.0</td>\n",
       "      <td>0.0</td>\n",
       "      <td>0.0</td>\n",
       "      <td>0.0</td>\n",
       "      <td>0.0</td>\n",
       "      <td>0.0</td>\n",
       "      <td>...</td>\n",
       "      <td>0.0</td>\n",
       "      <td>0.0</td>\n",
       "      <td>0.0</td>\n",
       "      <td>0.0</td>\n",
       "      <td>0.0</td>\n",
       "      <td>0.0</td>\n",
       "      <td>0.0</td>\n",
       "      <td>0.0</td>\n",
       "      <td>0.0</td>\n",
       "      <td>0.0</td>\n",
       "    </tr>\n",
       "    <tr>\n",
       "      <th>3</th>\n",
       "      <td>92.52</td>\n",
       "      <td>10.679999</td>\n",
       "      <td>0.0</td>\n",
       "      <td>0.0</td>\n",
       "      <td>0.0</td>\n",
       "      <td>0.0</td>\n",
       "      <td>0.0</td>\n",
       "      <td>0.0</td>\n",
       "      <td>0.0</td>\n",
       "      <td>0.0</td>\n",
       "      <td>...</td>\n",
       "      <td>0.0</td>\n",
       "      <td>0.0</td>\n",
       "      <td>0.0</td>\n",
       "      <td>0.0</td>\n",
       "      <td>0.0</td>\n",
       "      <td>0.0</td>\n",
       "      <td>0.0</td>\n",
       "      <td>0.0</td>\n",
       "      <td>0.0</td>\n",
       "      <td>0.0</td>\n",
       "    </tr>\n",
       "    <tr>\n",
       "      <th>4</th>\n",
       "      <td>92.52</td>\n",
       "      <td>10.799999</td>\n",
       "      <td>0.0</td>\n",
       "      <td>0.0</td>\n",
       "      <td>0.0</td>\n",
       "      <td>0.0</td>\n",
       "      <td>0.0</td>\n",
       "      <td>0.0</td>\n",
       "      <td>0.0</td>\n",
       "      <td>0.0</td>\n",
       "      <td>...</td>\n",
       "      <td>0.0</td>\n",
       "      <td>0.0</td>\n",
       "      <td>0.0</td>\n",
       "      <td>0.0</td>\n",
       "      <td>0.0</td>\n",
       "      <td>0.0</td>\n",
       "      <td>0.0</td>\n",
       "      <td>0.0</td>\n",
       "      <td>0.0</td>\n",
       "      <td>0.0</td>\n",
       "    </tr>\n",
       "  </tbody>\n",
       "</table>\n",
       "<p>5 rows × 37 columns</p>\n",
       "</div>"
      ],
      "text/plain": [
       "     Lon        Lat  State_Andhra Pradesh  State_Arunachal Pradesh  \\\n",
       "0  92.40  10.559999                   0.0                      0.0   \n",
       "1  92.40  10.679999                   0.0                      0.0   \n",
       "2  92.52  10.559999                   0.0                      0.0   \n",
       "3  92.52  10.679999                   0.0                      0.0   \n",
       "4  92.52  10.799999                   0.0                      0.0   \n",
       "\n",
       "   State_Assam  State_Bihar  State_Chandigarh  State_Chhattisgarh  \\\n",
       "0          0.0          0.0               0.0                 0.0   \n",
       "1          0.0          0.0               0.0                 0.0   \n",
       "2          0.0          0.0               0.0                 0.0   \n",
       "3          0.0          0.0               0.0                 0.0   \n",
       "4          0.0          0.0               0.0                 0.0   \n",
       "\n",
       "   State_Dadra and Nagar Haveli  State_Daman and Diu  ...  State_Puducherry  \\\n",
       "0                           0.0                  0.0  ...               0.0   \n",
       "1                           0.0                  0.0  ...               0.0   \n",
       "2                           0.0                  0.0  ...               0.0   \n",
       "3                           0.0                  0.0  ...               0.0   \n",
       "4                           0.0                  0.0  ...               0.0   \n",
       "\n",
       "   State_Punjab  State_Rajasthan  State_Sikkim  State_Tamil Nadu  \\\n",
       "0           0.0              0.0           0.0               0.0   \n",
       "1           0.0              0.0           0.0               0.0   \n",
       "2           0.0              0.0           0.0               0.0   \n",
       "3           0.0              0.0           0.0               0.0   \n",
       "4           0.0              0.0           0.0               0.0   \n",
       "\n",
       "   State_Telangana  State_Tripura  State_Uttar Pradesh  State_Uttaranchal  \\\n",
       "0              0.0            0.0                  0.0                0.0   \n",
       "1              0.0            0.0                  0.0                0.0   \n",
       "2              0.0            0.0                  0.0                0.0   \n",
       "3              0.0            0.0                  0.0                0.0   \n",
       "4              0.0            0.0                  0.0                0.0   \n",
       "\n",
       "   State_West Bengal  \n",
       "0                0.0  \n",
       "1                0.0  \n",
       "2                0.0  \n",
       "3                0.0  \n",
       "4                0.0  \n",
       "\n",
       "[5 rows x 37 columns]"
      ]
     },
     "execution_count": 29,
     "metadata": {},
     "output_type": "execute_result"
    }
   ],
   "source": [
    "X.head()"
   ]
  },
  {
   "cell_type": "code",
   "execution_count": 30,
   "id": "d3c189ae",
   "metadata": {},
   "outputs": [],
   "source": [
    "# Initialize the XGBoost Regressor\n",
    "model = xgb.XGBRegressor(objective ='reg:squarederror', random_state=42)"
   ]
  },
  {
   "cell_type": "code",
   "execution_count": 31,
   "id": "848aa25e",
   "metadata": {},
   "outputs": [
    {
     "data": {
      "text/html": [
       "<style>#sk-container-id-3 {color: black;background-color: white;}#sk-container-id-3 pre{padding: 0;}#sk-container-id-3 div.sk-toggleable {background-color: white;}#sk-container-id-3 label.sk-toggleable__label {cursor: pointer;display: block;width: 100%;margin-bottom: 0;padding: 0.3em;box-sizing: border-box;text-align: center;}#sk-container-id-3 label.sk-toggleable__label-arrow:before {content: \"▸\";float: left;margin-right: 0.25em;color: #696969;}#sk-container-id-3 label.sk-toggleable__label-arrow:hover:before {color: black;}#sk-container-id-3 div.sk-estimator:hover label.sk-toggleable__label-arrow:before {color: black;}#sk-container-id-3 div.sk-toggleable__content {max-height: 0;max-width: 0;overflow: hidden;text-align: left;background-color: #f0f8ff;}#sk-container-id-3 div.sk-toggleable__content pre {margin: 0.2em;color: black;border-radius: 0.25em;background-color: #f0f8ff;}#sk-container-id-3 input.sk-toggleable__control:checked~div.sk-toggleable__content {max-height: 200px;max-width: 100%;overflow: auto;}#sk-container-id-3 input.sk-toggleable__control:checked~label.sk-toggleable__label-arrow:before {content: \"▾\";}#sk-container-id-3 div.sk-estimator input.sk-toggleable__control:checked~label.sk-toggleable__label {background-color: #d4ebff;}#sk-container-id-3 div.sk-label input.sk-toggleable__control:checked~label.sk-toggleable__label {background-color: #d4ebff;}#sk-container-id-3 input.sk-hidden--visually {border: 0;clip: rect(1px 1px 1px 1px);clip: rect(1px, 1px, 1px, 1px);height: 1px;margin: -1px;overflow: hidden;padding: 0;position: absolute;width: 1px;}#sk-container-id-3 div.sk-estimator {font-family: monospace;background-color: #f0f8ff;border: 1px dotted black;border-radius: 0.25em;box-sizing: border-box;margin-bottom: 0.5em;}#sk-container-id-3 div.sk-estimator:hover {background-color: #d4ebff;}#sk-container-id-3 div.sk-parallel-item::after {content: \"\";width: 100%;border-bottom: 1px solid gray;flex-grow: 1;}#sk-container-id-3 div.sk-label:hover label.sk-toggleable__label {background-color: #d4ebff;}#sk-container-id-3 div.sk-serial::before {content: \"\";position: absolute;border-left: 1px solid gray;box-sizing: border-box;top: 0;bottom: 0;left: 50%;z-index: 0;}#sk-container-id-3 div.sk-serial {display: flex;flex-direction: column;align-items: center;background-color: white;padding-right: 0.2em;padding-left: 0.2em;position: relative;}#sk-container-id-3 div.sk-item {position: relative;z-index: 1;}#sk-container-id-3 div.sk-parallel {display: flex;align-items: stretch;justify-content: center;background-color: white;position: relative;}#sk-container-id-3 div.sk-item::before, #sk-container-id-3 div.sk-parallel-item::before {content: \"\";position: absolute;border-left: 1px solid gray;box-sizing: border-box;top: 0;bottom: 0;left: 50%;z-index: -1;}#sk-container-id-3 div.sk-parallel-item {display: flex;flex-direction: column;z-index: 1;position: relative;background-color: white;}#sk-container-id-3 div.sk-parallel-item:first-child::after {align-self: flex-end;width: 50%;}#sk-container-id-3 div.sk-parallel-item:last-child::after {align-self: flex-start;width: 50%;}#sk-container-id-3 div.sk-parallel-item:only-child::after {width: 0;}#sk-container-id-3 div.sk-dashed-wrapped {border: 1px dashed gray;margin: 0 0.4em 0.5em 0.4em;box-sizing: border-box;padding-bottom: 0.4em;background-color: white;}#sk-container-id-3 div.sk-label label {font-family: monospace;font-weight: bold;display: inline-block;line-height: 1.2em;}#sk-container-id-3 div.sk-label-container {text-align: center;}#sk-container-id-3 div.sk-container {/* jupyter's `normalize.less` sets `[hidden] { display: none; }` but bootstrap.min.css set `[hidden] { display: none !important; }` so we also need the `!important` here to be able to override the default hidden behavior on the sphinx rendered scikit-learn.org. See: https://github.com/scikit-learn/scikit-learn/issues/21755 */display: inline-block !important;position: relative;}#sk-container-id-3 div.sk-text-repr-fallback {display: none;}</style><div id=\"sk-container-id-3\" class=\"sk-top-container\"><div class=\"sk-text-repr-fallback\"><pre>XGBRegressor(base_score=None, booster=None, callbacks=None,\n",
       "             colsample_bylevel=None, colsample_bynode=None,\n",
       "             colsample_bytree=None, early_stopping_rounds=None,\n",
       "             enable_categorical=False, eval_metric=None, feature_types=None,\n",
       "             gamma=None, gpu_id=None, grow_policy=None, importance_type=None,\n",
       "             interaction_constraints=None, learning_rate=None, max_bin=None,\n",
       "             max_cat_threshold=None, max_cat_to_onehot=None,\n",
       "             max_delta_step=None, max_depth=None, max_leaves=None,\n",
       "             min_child_weight=None, missing=nan, monotone_constraints=None,\n",
       "             n_estimators=100, n_jobs=None, num_parallel_tree=None,\n",
       "             predictor=None, random_state=42, ...)</pre><b>In a Jupyter environment, please rerun this cell to show the HTML representation or trust the notebook. <br />On GitHub, the HTML representation is unable to render, please try loading this page with nbviewer.org.</b></div><div class=\"sk-container\" hidden><div class=\"sk-item\"><div class=\"sk-estimator sk-toggleable\"><input class=\"sk-toggleable__control sk-hidden--visually\" id=\"sk-estimator-id-3\" type=\"checkbox\" checked><label for=\"sk-estimator-id-3\" class=\"sk-toggleable__label sk-toggleable__label-arrow\">XGBRegressor</label><div class=\"sk-toggleable__content\"><pre>XGBRegressor(base_score=None, booster=None, callbacks=None,\n",
       "             colsample_bylevel=None, colsample_bynode=None,\n",
       "             colsample_bytree=None, early_stopping_rounds=None,\n",
       "             enable_categorical=False, eval_metric=None, feature_types=None,\n",
       "             gamma=None, gpu_id=None, grow_policy=None, importance_type=None,\n",
       "             interaction_constraints=None, learning_rate=None, max_bin=None,\n",
       "             max_cat_threshold=None, max_cat_to_onehot=None,\n",
       "             max_delta_step=None, max_depth=None, max_leaves=None,\n",
       "             min_child_weight=None, missing=nan, monotone_constraints=None,\n",
       "             n_estimators=100, n_jobs=None, num_parallel_tree=None,\n",
       "             predictor=None, random_state=42, ...)</pre></div></div></div></div></div>"
      ],
      "text/plain": [
       "XGBRegressor(base_score=None, booster=None, callbacks=None,\n",
       "             colsample_bylevel=None, colsample_bynode=None,\n",
       "             colsample_bytree=None, early_stopping_rounds=None,\n",
       "             enable_categorical=False, eval_metric=None, feature_types=None,\n",
       "             gamma=None, gpu_id=None, grow_policy=None, importance_type=None,\n",
       "             interaction_constraints=None, learning_rate=None, max_bin=None,\n",
       "             max_cat_threshold=None, max_cat_to_onehot=None,\n",
       "             max_delta_step=None, max_depth=None, max_leaves=None,\n",
       "             min_child_weight=None, missing=nan, monotone_constraints=None,\n",
       "             n_estimators=100, n_jobs=None, num_parallel_tree=None,\n",
       "             predictor=None, random_state=42, ...)"
      ]
     },
     "execution_count": 31,
     "metadata": {},
     "output_type": "execute_result"
    }
   ],
   "source": [
    "model.fit(X, y)"
   ]
  },
  {
   "cell_type": "code",
   "execution_count": 32,
   "id": "71c288b6",
   "metadata": {},
   "outputs": [
    {
     "data": {
      "text/plain": [
       "20168"
      ]
     },
     "execution_count": 32,
     "metadata": {},
     "output_type": "execute_result"
    }
   ],
   "source": [
    "y_pred_full = model.predict(X)\n",
    "len(y_pred_full)"
   ]
  },
  {
   "cell_type": "code",
   "execution_count": 33,
   "id": "94d00773",
   "metadata": {},
   "outputs": [
    {
     "name": "stdout",
     "output_type": "stream",
     "text": [
      "Mean Absolute Error (MAE): 0.48867257902335737\n",
      "Mean Squared Error (MSE): 0.528484199091625\n",
      "Root Mean Squared Error (RMSE): 0.7269691871679467\n"
     ]
    }
   ],
   "source": [
    "# Evaluating the model\n",
    "mae = mean_absolute_error(y, y_pred_full)\n",
    "mse = mean_squared_error(y, y_pred_full)\n",
    "rmse = np.sqrt(mse)\n",
    "print(f\"Mean Absolute Error (MAE): {mae}\")\n",
    "print(f\"Mean Squared Error (MSE): {mse}\")\n",
    "print(f\"Root Mean Squared Error (RMSE): {rmse}\")"
   ]
  },
  {
   "cell_type": "code",
   "execution_count": 34,
   "id": "90fbfb07",
   "metadata": {},
   "outputs": [
    {
     "data": {
      "image/png": "[encoded data removed]",
      "text/plain": [
       "<Figure size 1000x600 with 1 Axes>"
      ]
     },
     "metadata": {},
     "output_type": "display_data"
    }
   ],
   "source": [
    "# Plotting the predicted vs actual values\n",
    "plt.figure(figsize=(10, 6))\n",
    "sns.scatterplot(x=y, y=y_pred_full)\n",
    "plt.xlabel('Actual Temperature')\n",
    "plt.ylabel('Predicted Temperature')\n",
    "plt.title('Actual vs Predicted Temperature')\n",
    "# Perfect predictions\n",
    "plt.plot(y,y,'r')\n",
    "plt.show()"
   ]
  },
  {
   "cell_type": "code",
   "execution_count": 35,
   "id": "c769c74e",
   "metadata": {},
   "outputs": [
    {
     "data": {
      "image/png": "[encoded data removed]",
      "text/plain": [
       "<Figure size 1000x600 with 1 Axes>"
      ]
     },
     "metadata": {},
     "output_type": "display_data"
    }
   ],
   "source": [
    "# Analyzing residuals\n",
    "residuals = y - y_pred_full\n",
    "plt.figure(figsize=(10, 6))\n",
    "sns.histplot(residuals, kde=True)\n",
    "plt.xlabel('Residuals')\n",
    "plt.ylabel('Frequency')\n",
    "plt.title('Distribution of Residuals')\n",
    "plt.show()"
   ]
  },
  {
   "cell_type": "code",
   "execution_count": 36,
   "id": "60d5b6b8",
   "metadata": {},
   "outputs": [],
   "source": [
    "## Saving to Excel File\n",
    "data['State Wise Model'] = y_pred_full"
   ]
  },
  {
   "cell_type": "code",
   "execution_count": 37,
   "id": "4078679d",
   "metadata": {},
   "outputs": [
    {
     "data": {
      "text/html": [
       "<div>\n",
       "<style scoped>\n",
       "    .dataframe tbody tr th:only-of-type {\n",
       "        vertical-align: middle;\n",
       "    }\n",
       "\n",
       "    .dataframe tbody tr th {\n",
       "        vertical-align: top;\n",
       "    }\n",
       "\n",
       "    .dataframe thead th {\n",
       "        text-align: right;\n",
       "    }\n",
       "</style>\n",
       "<table border=\"1\" class=\"dataframe\">\n",
       "  <thead>\n",
       "    <tr style=\"text-align: right;\">\n",
       "      <th></th>\n",
       "      <th>Lon</th>\n",
       "      <th>Lat</th>\n",
       "      <th>Elevation</th>\n",
       "      <th>State</th>\n",
       "      <th>Average</th>\n",
       "      <th>Zone ID</th>\n",
       "      <th>Emperical Cluster Model</th>\n",
       "      <th>Global Model</th>\n",
       "      <th>State Wise Model</th>\n",
       "    </tr>\n",
       "  </thead>\n",
       "  <tbody>\n",
       "    <tr>\n",
       "      <th>0</th>\n",
       "      <td>92.40</td>\n",
       "      <td>10.559999</td>\n",
       "      <td>0.359467</td>\n",
       "      <td>Andaman and Nicobar</td>\n",
       "      <td>30.506079</td>\n",
       "      <td>5</td>\n",
       "      <td>30.405285</td>\n",
       "      <td>30.402090</td>\n",
       "      <td>30.640200</td>\n",
       "    </tr>\n",
       "    <tr>\n",
       "      <th>1</th>\n",
       "      <td>92.40</td>\n",
       "      <td>10.679999</td>\n",
       "      <td>0.359467</td>\n",
       "      <td>Andaman and Nicobar</td>\n",
       "      <td>30.502134</td>\n",
       "      <td>5</td>\n",
       "      <td>30.451868</td>\n",
       "      <td>30.444416</td>\n",
       "      <td>30.688324</td>\n",
       "    </tr>\n",
       "    <tr>\n",
       "      <th>2</th>\n",
       "      <td>92.52</td>\n",
       "      <td>10.559999</td>\n",
       "      <td>0.359467</td>\n",
       "      <td>Andaman and Nicobar</td>\n",
       "      <td>30.510609</td>\n",
       "      <td>5</td>\n",
       "      <td>30.468330</td>\n",
       "      <td>30.573109</td>\n",
       "      <td>30.597889</td>\n",
       "    </tr>\n",
       "    <tr>\n",
       "      <th>3</th>\n",
       "      <td>92.52</td>\n",
       "      <td>10.679999</td>\n",
       "      <td>0.359467</td>\n",
       "      <td>Andaman and Nicobar</td>\n",
       "      <td>30.505629</td>\n",
       "      <td>5</td>\n",
       "      <td>30.549406</td>\n",
       "      <td>30.615435</td>\n",
       "      <td>30.616760</td>\n",
       "    </tr>\n",
       "    <tr>\n",
       "      <th>4</th>\n",
       "      <td>92.52</td>\n",
       "      <td>10.799999</td>\n",
       "      <td>0.359467</td>\n",
       "      <td>Andaman and Nicobar</td>\n",
       "      <td>30.507633</td>\n",
       "      <td>5</td>\n",
       "      <td>30.385864</td>\n",
       "      <td>30.616985</td>\n",
       "      <td>30.690578</td>\n",
       "    </tr>\n",
       "  </tbody>\n",
       "</table>\n",
       "</div>"
      ],
      "text/plain": [
       "     Lon        Lat  Elevation                State    Average  Zone ID  \\\n",
       "0  92.40  10.559999   0.359467  Andaman and Nicobar  30.506079        5   \n",
       "1  92.40  10.679999   0.359467  Andaman and Nicobar  30.502134        5   \n",
       "2  92.52  10.559999   0.359467  Andaman and Nicobar  30.510609        5   \n",
       "3  92.52  10.679999   0.359467  Andaman and Nicobar  30.505629        5   \n",
       "4  92.52  10.799999   0.359467  Andaman and Nicobar  30.507633        5   \n",
       "\n",
       "   Emperical Cluster Model  Global Model  State Wise Model  \n",
       "0                30.405285     30.402090         30.640200  \n",
       "1                30.451868     30.444416         30.688324  \n",
       "2                30.468330     30.573109         30.597889  \n",
       "3                30.549406     30.615435         30.616760  \n",
       "4                30.385864     30.616985         30.690578  "
      ]
     },
     "execution_count": 37,
     "metadata": {},
     "output_type": "execute_result"
    }
   ],
   "source": [
    "data.head()"
   ]
  },
  {
   "cell_type": "markdown",
   "id": "6d3ecf34",
   "metadata": {},
   "source": [
    "# Specific State Wise Modal"
   ]
  },
  {
   "cell_type": "code",
   "execution_count": 38,
   "id": "56d1f49f",
   "metadata": {},
   "outputs": [
    {
     "data": {
      "text/plain": [
       "array(['Andaman and Nicobar', 'Andhra Pradesh', 'Arunachal Pradesh',\n",
       "       'Assam', 'Bihar', 'Chandigarh', 'Chhattisgarh',\n",
       "       'Dadra and Nagar Haveli', 'Daman and Diu', 'Delhi', 'Goa',\n",
       "       'Gujarat', 'Haryana', 'Himachal Pradesh', 'Jammu And Kashmir',\n",
       "       'Jammu and Kashmir', 'Jharkhand', 'Karnataka', 'Kerala',\n",
       "       'Madhya Pradesh', 'Maharashtra', 'Manipur', 'Meghalaya', 'Mizoram',\n",
       "       'Nagaland', 'Orissa', 'Puducherry', 'Punjab', 'Rajasthan',\n",
       "       'Sikkim', 'Tamil Nadu', 'Telangana', 'Tripura', 'Uttar Pradesh',\n",
       "       'Uttaranchal', 'West Bengal'], dtype=object)"
      ]
     },
     "execution_count": 38,
     "metadata": {},
     "output_type": "execute_result"
    }
   ],
   "source": [
    "data[\"State\"].unique()"
   ]
  },
  {
   "cell_type": "code",
   "execution_count": 39,
   "id": "06a9d465",
   "metadata": {
    "scrolled": true
   },
   "outputs": [
    {
     "data": {
      "text/html": [
       "<div>\n",
       "<style scoped>\n",
       "    .dataframe tbody tr th:only-of-type {\n",
       "        vertical-align: middle;\n",
       "    }\n",
       "\n",
       "    .dataframe tbody tr th {\n",
       "        vertical-align: top;\n",
       "    }\n",
       "\n",
       "    .dataframe thead th {\n",
       "        text-align: right;\n",
       "    }\n",
       "</style>\n",
       "<table border=\"1\" class=\"dataframe\">\n",
       "  <thead>\n",
       "    <tr style=\"text-align: right;\">\n",
       "      <th></th>\n",
       "      <th>Lon</th>\n",
       "      <th>Lat</th>\n",
       "      <th>Elevation</th>\n",
       "      <th>State</th>\n",
       "      <th>Average</th>\n",
       "      <th>Zone ID</th>\n",
       "      <th>State Wise Model Result When Trained on Each State Seperately</th>\n",
       "    </tr>\n",
       "  </thead>\n",
       "  <tbody>\n",
       "    <tr>\n",
       "      <th>0</th>\n",
       "      <td>92.40</td>\n",
       "      <td>10.559999</td>\n",
       "      <td>0.359467</td>\n",
       "      <td>Andaman and Nicobar</td>\n",
       "      <td>30.506079</td>\n",
       "      <td>5</td>\n",
       "      <td>30.506233</td>\n",
       "    </tr>\n",
       "    <tr>\n",
       "      <th>1</th>\n",
       "      <td>92.40</td>\n",
       "      <td>10.679999</td>\n",
       "      <td>0.359467</td>\n",
       "      <td>Andaman and Nicobar</td>\n",
       "      <td>30.502134</td>\n",
       "      <td>5</td>\n",
       "      <td>30.503115</td>\n",
       "    </tr>\n",
       "    <tr>\n",
       "      <th>2</th>\n",
       "      <td>92.52</td>\n",
       "      <td>10.559999</td>\n",
       "      <td>0.359467</td>\n",
       "      <td>Andaman and Nicobar</td>\n",
       "      <td>30.510609</td>\n",
       "      <td>5</td>\n",
       "      <td>30.509087</td>\n",
       "    </tr>\n",
       "    <tr>\n",
       "      <th>3</th>\n",
       "      <td>92.52</td>\n",
       "      <td>10.679999</td>\n",
       "      <td>0.359467</td>\n",
       "      <td>Andaman and Nicobar</td>\n",
       "      <td>30.505629</td>\n",
       "      <td>5</td>\n",
       "      <td>30.506357</td>\n",
       "    </tr>\n",
       "    <tr>\n",
       "      <th>4</th>\n",
       "      <td>92.52</td>\n",
       "      <td>10.799999</td>\n",
       "      <td>0.359467</td>\n",
       "      <td>Andaman and Nicobar</td>\n",
       "      <td>30.507633</td>\n",
       "      <td>5</td>\n",
       "      <td>30.507170</td>\n",
       "    </tr>\n",
       "  </tbody>\n",
       "</table>\n",
       "</div>"
      ],
      "text/plain": [
       "     Lon        Lat  Elevation                State    Average  Zone ID  \\\n",
       "0  92.40  10.559999   0.359467  Andaman and Nicobar  30.506079        5   \n",
       "1  92.40  10.679999   0.359467  Andaman and Nicobar  30.502134        5   \n",
       "2  92.52  10.559999   0.359467  Andaman and Nicobar  30.510609        5   \n",
       "3  92.52  10.679999   0.359467  Andaman and Nicobar  30.505629        5   \n",
       "4  92.52  10.799999   0.359467  Andaman and Nicobar  30.507633        5   \n",
       "\n",
       "   State Wise Model Result When Trained on Each State Seperately  \n",
       "0                                          30.506233              \n",
       "1                                          30.503115              \n",
       "2                                          30.509087              \n",
       "3                                          30.506357              \n",
       "4                                          30.507170              "
      ]
     },
     "execution_count": 39,
     "metadata": {},
     "output_type": "execute_result"
    }
   ],
   "source": [
    "state_model = pd.DataFrame()\n",
    "for state in data[\"State\"].unique():\n",
    "        cluster_data = data[data[\"State\"] == state]\n",
    "        X_cluster = cluster_data[['Lat', 'Lon']]\n",
    "        y_cluster = cluster_data['Average']\n",
    "\n",
    "        model = xgb.XGBRegressor(objective ='reg:squarederror', random_state=42)\n",
    "        model.fit(X_cluster, y_cluster)\n",
    "        y_pred = model.predict(X_cluster)\n",
    "\n",
    "        temp = cluster_data[[\"Lon\", \"Lat\", \"Elevation\", \"State\", \"Average\", \"Zone ID\"]]\n",
    "        temp[\"State Wise Model Result When Trained on Each State Seperately\"] = y_pred\n",
    "        state_model = pd.concat([state_model, temp])\n",
    "        \n",
    "state_model.head()"
   ]
  },
  {
   "cell_type": "code",
   "execution_count": 40,
   "id": "099533a2",
   "metadata": {},
   "outputs": [
    {
     "data": {
      "text/html": [
       "<div>\n",
       "<style scoped>\n",
       "    .dataframe tbody tr th:only-of-type {\n",
       "        vertical-align: middle;\n",
       "    }\n",
       "\n",
       "    .dataframe tbody tr th {\n",
       "        vertical-align: top;\n",
       "    }\n",
       "\n",
       "    .dataframe thead th {\n",
       "        text-align: right;\n",
       "    }\n",
       "</style>\n",
       "<table border=\"1\" class=\"dataframe\">\n",
       "  <thead>\n",
       "    <tr style=\"text-align: right;\">\n",
       "      <th></th>\n",
       "      <th>Lon</th>\n",
       "      <th>Lat</th>\n",
       "      <th>Elevation</th>\n",
       "      <th>State</th>\n",
       "      <th>Average</th>\n",
       "      <th>Zone ID</th>\n",
       "      <th>Emperical Cluster Model</th>\n",
       "      <th>Global Model</th>\n",
       "      <th>State Wise Model</th>\n",
       "    </tr>\n",
       "  </thead>\n",
       "  <tbody>\n",
       "    <tr>\n",
       "      <th>0</th>\n",
       "      <td>92.40</td>\n",
       "      <td>10.559999</td>\n",
       "      <td>0.359467</td>\n",
       "      <td>Andaman and Nicobar</td>\n",
       "      <td>30.506079</td>\n",
       "      <td>5</td>\n",
       "      <td>30.405285</td>\n",
       "      <td>30.402090</td>\n",
       "      <td>30.640200</td>\n",
       "    </tr>\n",
       "    <tr>\n",
       "      <th>1</th>\n",
       "      <td>92.40</td>\n",
       "      <td>10.679999</td>\n",
       "      <td>0.359467</td>\n",
       "      <td>Andaman and Nicobar</td>\n",
       "      <td>30.502134</td>\n",
       "      <td>5</td>\n",
       "      <td>30.451868</td>\n",
       "      <td>30.444416</td>\n",
       "      <td>30.688324</td>\n",
       "    </tr>\n",
       "    <tr>\n",
       "      <th>2</th>\n",
       "      <td>92.52</td>\n",
       "      <td>10.559999</td>\n",
       "      <td>0.359467</td>\n",
       "      <td>Andaman and Nicobar</td>\n",
       "      <td>30.510609</td>\n",
       "      <td>5</td>\n",
       "      <td>30.468330</td>\n",
       "      <td>30.573109</td>\n",
       "      <td>30.597889</td>\n",
       "    </tr>\n",
       "    <tr>\n",
       "      <th>3</th>\n",
       "      <td>92.52</td>\n",
       "      <td>10.679999</td>\n",
       "      <td>0.359467</td>\n",
       "      <td>Andaman and Nicobar</td>\n",
       "      <td>30.505629</td>\n",
       "      <td>5</td>\n",
       "      <td>30.549406</td>\n",
       "      <td>30.615435</td>\n",
       "      <td>30.616760</td>\n",
       "    </tr>\n",
       "    <tr>\n",
       "      <th>4</th>\n",
       "      <td>92.52</td>\n",
       "      <td>10.799999</td>\n",
       "      <td>0.359467</td>\n",
       "      <td>Andaman and Nicobar</td>\n",
       "      <td>30.507633</td>\n",
       "      <td>5</td>\n",
       "      <td>30.385864</td>\n",
       "      <td>30.616985</td>\n",
       "      <td>30.690578</td>\n",
       "    </tr>\n",
       "  </tbody>\n",
       "</table>\n",
       "</div>"
      ],
      "text/plain": [
       "     Lon        Lat  Elevation                State    Average  Zone ID  \\\n",
       "0  92.40  10.559999   0.359467  Andaman and Nicobar  30.506079        5   \n",
       "1  92.40  10.679999   0.359467  Andaman and Nicobar  30.502134        5   \n",
       "2  92.52  10.559999   0.359467  Andaman and Nicobar  30.510609        5   \n",
       "3  92.52  10.679999   0.359467  Andaman and Nicobar  30.505629        5   \n",
       "4  92.52  10.799999   0.359467  Andaman and Nicobar  30.507633        5   \n",
       "\n",
       "   Emperical Cluster Model  Global Model  State Wise Model  \n",
       "0                30.405285     30.402090         30.640200  \n",
       "1                30.451868     30.444416         30.688324  \n",
       "2                30.468330     30.573109         30.597889  \n",
       "3                30.549406     30.615435         30.616760  \n",
       "4                30.385864     30.616985         30.690578  "
      ]
     },
     "execution_count": 40,
     "metadata": {},
     "output_type": "execute_result"
    }
   ],
   "source": [
    "data.head()"
   ]
  },
  {
   "cell_type": "markdown",
   "id": "ada3697f",
   "metadata": {},
   "source": [
    "# Cluster Based Model"
   ]
  },
  {
   "cell_type": "code",
   "execution_count": 41,
   "id": "9142762c",
   "metadata": {},
   "outputs": [],
   "source": [
    "from sklearn.preprocessing import StandardScaler\n",
    "from sklearn.cluster import KMeans"
   ]
  },
  {
   "cell_type": "code",
   "execution_count": 42,
   "id": "a392d92d",
   "metadata": {},
   "outputs": [],
   "source": [
    "# One Time\n",
    "features_for_clustering = data[['Lon', 'Lat']]\n",
    "scaler = StandardScaler()\n",
    "features_standardized = scaler.fit_transform(features_for_clustering)"
   ]
  },
  {
   "cell_type": "code",
   "execution_count": 43,
   "id": "84c23577",
   "metadata": {},
   "outputs": [],
   "source": [
    "#intializing all cluster model\n",
    "\n",
    "cluster_model_5 = pd.DataFrame()\n",
    "cluster_model_6 = pd.DataFrame()\n",
    "cluster_model_7 = pd.DataFrame()\n",
    "cluster_model_8 = pd.DataFrame()\n",
    "cluster_model_9 = pd.DataFrame()\n",
    "cluster_model_10 = pd.DataFrame()\n",
    "cluster_model_11 = pd.DataFrame()\n",
    "cluster_model_12 = pd.DataFrame()\n",
    "cluster_model_13 = pd.DataFrame()\n",
    "cluster_model_14 = pd.DataFrame()\n",
    "cluster_model_15 = pd.DataFrame()\n",
    "    \n",
    "cluster_model = [0, 0, 0, 0, 0, cluster_model_5, cluster_model_6, cluster_model_7, cluster_model_8, cluster_model_9, cluster_model_10, cluster_model_11, cluster_model_12, cluster_model_13, cluster_model_14, cluster_model_15]"
   ]
  },
  {
   "cell_type": "code",
   "execution_count": 44,
   "id": "4487a8bc",
   "metadata": {},
   "outputs": [],
   "source": [
    "for i in range (5,16):\n",
    "    # Initialize the KMeans model\n",
    "    kmeans = KMeans(n_clusters=i, random_state=42)\n",
    "\n",
    "    # Fit the model to the data and get cluster labels\n",
    "    data[f\"Cluster ID with {i}\"] = kmeans.fit_predict(features_standardized)\n",
    "    features = data[['Lon', 'Lat', f\"Cluster ID with {i}\"]]\n",
    "    result = data['Average']\n",
    "    \n",
    "    # Initialize the XGBoost Regressor\n",
    "    model = xgb.XGBRegressor(objective ='reg:squarederror', random_state=42)\n",
    "    model.fit(features, result)\n",
    "    \n",
    "    y_pred_full_with_clusters = model.predict(features)\n",
    "    \n",
    "    ## Saving to df\n",
    "    data[f\"Predicted with {i} Clusters\"] = y_pred_full_with_clusters\n",
    "    \n",
    "    \n",
    "    \n",
    "    \n",
    "    for cluster_id in range(data[f\"Cluster ID with {i}\"].nunique()):\n",
    "        cluster_data = data[data[f\"Cluster ID with {i}\"] == cluster_id]\n",
    "        X_cluster = cluster_data[['Lat', 'Lon']]\n",
    "        y_cluster = cluster_data['Average']\n",
    "\n",
    "        model = xgb.XGBRegressor(objective ='reg:squarederror', random_state=42)\n",
    "        model.fit(X_cluster, y_cluster)\n",
    "        y_pred = model.predict(X_cluster)\n",
    "        \n",
    "        temp = cluster_data[[\"Lon\", \"Lat\", \"Elevation\", \"State\", \"Average\", \"Zone ID\", f\"Cluster ID with {i}\"]]\n",
    "        temp[\"Cluster Model Result When Trained on Each State Seperately\"] = y_pred\n",
    "        \n",
    "        cluster_model[i] = pd.concat([cluster_model[i], temp])\n",
    "    "
   ]
  },
  {
   "cell_type": "markdown",
   "id": "cff4d8ce",
   "metadata": {},
   "source": [
    "### Visualize the clusters (optional, for 2D features)"
   ]
  },
  {
   "cell_type": "code",
   "execution_count": 45,
   "id": "a8792e79",
   "metadata": {},
   "outputs": [],
   "source": [
    "# plt.scatter(data['Lon'], data['Lat'], c=data['true cluster ID with 7 train seperate'], cmap='viridis')\n",
    "# plt.title('Clustered Data')\n",
    "# plt.xlabel('Longitude')\n",
    "# plt.ylabel('Latitude')\n",
    "# plt.show()"
   ]
  },
  {
   "cell_type": "code",
   "execution_count": 46,
   "id": "cdc7a793",
   "metadata": {
    "scrolled": true
   },
   "outputs": [
    {
     "data": {
      "text/html": [
       "<div>\n",
       "<style scoped>\n",
       "    .dataframe tbody tr th:only-of-type {\n",
       "        vertical-align: middle;\n",
       "    }\n",
       "\n",
       "    .dataframe tbody tr th {\n",
       "        vertical-align: top;\n",
       "    }\n",
       "\n",
       "    .dataframe thead th {\n",
       "        text-align: right;\n",
       "    }\n",
       "</style>\n",
       "<table border=\"1\" class=\"dataframe\">\n",
       "  <thead>\n",
       "    <tr style=\"text-align: right;\">\n",
       "      <th></th>\n",
       "      <th>Lon</th>\n",
       "      <th>Lat</th>\n",
       "      <th>Elevation</th>\n",
       "      <th>State</th>\n",
       "      <th>Average</th>\n",
       "      <th>Zone ID</th>\n",
       "      <th>Emperical Cluster Model</th>\n",
       "      <th>Global Model</th>\n",
       "      <th>State Wise Model</th>\n",
       "      <th>Cluster ID with 5</th>\n",
       "      <th>...</th>\n",
       "      <th>Cluster ID with 11</th>\n",
       "      <th>Predicted with 11 Clusters</th>\n",
       "      <th>Cluster ID with 12</th>\n",
       "      <th>Predicted with 12 Clusters</th>\n",
       "      <th>Cluster ID with 13</th>\n",
       "      <th>Predicted with 13 Clusters</th>\n",
       "      <th>Cluster ID with 14</th>\n",
       "      <th>Predicted with 14 Clusters</th>\n",
       "      <th>Cluster ID with 15</th>\n",
       "      <th>Predicted with 15 Clusters</th>\n",
       "    </tr>\n",
       "  </thead>\n",
       "  <tbody>\n",
       "    <tr>\n",
       "      <th>0</th>\n",
       "      <td>92.40</td>\n",
       "      <td>10.559999</td>\n",
       "      <td>0.359467</td>\n",
       "      <td>Andaman and Nicobar</td>\n",
       "      <td>30.506079</td>\n",
       "      <td>5</td>\n",
       "      <td>30.405285</td>\n",
       "      <td>30.402090</td>\n",
       "      <td>30.640200</td>\n",
       "      <td>2</td>\n",
       "      <td>...</td>\n",
       "      <td>2</td>\n",
       "      <td>30.328878</td>\n",
       "      <td>1</td>\n",
       "      <td>30.612185</td>\n",
       "      <td>6</td>\n",
       "      <td>30.491579</td>\n",
       "      <td>1</td>\n",
       "      <td>30.464106</td>\n",
       "      <td>14</td>\n",
       "      <td>30.544935</td>\n",
       "    </tr>\n",
       "    <tr>\n",
       "      <th>1</th>\n",
       "      <td>92.40</td>\n",
       "      <td>10.679999</td>\n",
       "      <td>0.359467</td>\n",
       "      <td>Andaman and Nicobar</td>\n",
       "      <td>30.502134</td>\n",
       "      <td>5</td>\n",
       "      <td>30.451868</td>\n",
       "      <td>30.444416</td>\n",
       "      <td>30.688324</td>\n",
       "      <td>2</td>\n",
       "      <td>...</td>\n",
       "      <td>2</td>\n",
       "      <td>30.625996</td>\n",
       "      <td>1</td>\n",
       "      <td>30.442802</td>\n",
       "      <td>6</td>\n",
       "      <td>30.424742</td>\n",
       "      <td>1</td>\n",
       "      <td>30.595291</td>\n",
       "      <td>14</td>\n",
       "      <td>30.484362</td>\n",
       "    </tr>\n",
       "    <tr>\n",
       "      <th>2</th>\n",
       "      <td>92.52</td>\n",
       "      <td>10.559999</td>\n",
       "      <td>0.359467</td>\n",
       "      <td>Andaman and Nicobar</td>\n",
       "      <td>30.510609</td>\n",
       "      <td>5</td>\n",
       "      <td>30.468330</td>\n",
       "      <td>30.573109</td>\n",
       "      <td>30.597889</td>\n",
       "      <td>2</td>\n",
       "      <td>...</td>\n",
       "      <td>2</td>\n",
       "      <td>30.383808</td>\n",
       "      <td>1</td>\n",
       "      <td>30.559994</td>\n",
       "      <td>6</td>\n",
       "      <td>30.643257</td>\n",
       "      <td>1</td>\n",
       "      <td>30.477356</td>\n",
       "      <td>14</td>\n",
       "      <td>30.559330</td>\n",
       "    </tr>\n",
       "    <tr>\n",
       "      <th>3</th>\n",
       "      <td>92.52</td>\n",
       "      <td>10.679999</td>\n",
       "      <td>0.359467</td>\n",
       "      <td>Andaman and Nicobar</td>\n",
       "      <td>30.505629</td>\n",
       "      <td>5</td>\n",
       "      <td>30.549406</td>\n",
       "      <td>30.615435</td>\n",
       "      <td>30.616760</td>\n",
       "      <td>2</td>\n",
       "      <td>...</td>\n",
       "      <td>2</td>\n",
       "      <td>30.638208</td>\n",
       "      <td>1</td>\n",
       "      <td>30.390612</td>\n",
       "      <td>6</td>\n",
       "      <td>30.576420</td>\n",
       "      <td>1</td>\n",
       "      <td>30.608541</td>\n",
       "      <td>14</td>\n",
       "      <td>30.498756</td>\n",
       "    </tr>\n",
       "    <tr>\n",
       "      <th>4</th>\n",
       "      <td>92.52</td>\n",
       "      <td>10.799999</td>\n",
       "      <td>0.359467</td>\n",
       "      <td>Andaman and Nicobar</td>\n",
       "      <td>30.507633</td>\n",
       "      <td>5</td>\n",
       "      <td>30.385864</td>\n",
       "      <td>30.616985</td>\n",
       "      <td>30.690578</td>\n",
       "      <td>2</td>\n",
       "      <td>...</td>\n",
       "      <td>2</td>\n",
       "      <td>30.641691</td>\n",
       "      <td>1</td>\n",
       "      <td>30.139904</td>\n",
       "      <td>6</td>\n",
       "      <td>30.465988</td>\n",
       "      <td>1</td>\n",
       "      <td>30.597475</td>\n",
       "      <td>14</td>\n",
       "      <td>30.425735</td>\n",
       "    </tr>\n",
       "  </tbody>\n",
       "</table>\n",
       "<p>5 rows × 31 columns</p>\n",
       "</div>"
      ],
      "text/plain": [
       "     Lon        Lat  Elevation                State    Average  Zone ID  \\\n",
       "0  92.40  10.559999   0.359467  Andaman and Nicobar  30.506079        5   \n",
       "1  92.40  10.679999   0.359467  Andaman and Nicobar  30.502134        5   \n",
       "2  92.52  10.559999   0.359467  Andaman and Nicobar  30.510609        5   \n",
       "3  92.52  10.679999   0.359467  Andaman and Nicobar  30.505629        5   \n",
       "4  92.52  10.799999   0.359467  Andaman and Nicobar  30.507633        5   \n",
       "\n",
       "   Emperical Cluster Model  Global Model  State Wise Model  Cluster ID with 5  \\\n",
       "0                30.405285     30.402090         30.640200                  2   \n",
       "1                30.451868     30.444416         30.688324                  2   \n",
       "2                30.468330     30.573109         30.597889                  2   \n",
       "3                30.549406     30.615435         30.616760                  2   \n",
       "4                30.385864     30.616985         30.690578                  2   \n",
       "\n",
       "   ...  Cluster ID with 11  Predicted with 11 Clusters  Cluster ID with 12  \\\n",
       "0  ...                   2                   30.328878                   1   \n",
       "1  ...                   2                   30.625996                   1   \n",
       "2  ...                   2                   30.383808                   1   \n",
       "3  ...                   2                   30.638208                   1   \n",
       "4  ...                   2                   30.641691                   1   \n",
       "\n",
       "   Predicted with 12 Clusters  Cluster ID with 13  Predicted with 13 Clusters  \\\n",
       "0                   30.612185                   6                   30.491579   \n",
       "1                   30.442802                   6                   30.424742   \n",
       "2                   30.559994                   6                   30.643257   \n",
       "3                   30.390612                   6                   30.576420   \n",
       "4                   30.139904                   6                   30.465988   \n",
       "\n",
       "   Cluster ID with 14  Predicted with 14 Clusters  Cluster ID with 15  \\\n",
       "0                   1                   30.464106                  14   \n",
       "1                   1                   30.595291                  14   \n",
       "2                   1                   30.477356                  14   \n",
       "3                   1                   30.608541                  14   \n",
       "4                   1                   30.597475                  14   \n",
       "\n",
       "   Predicted with 15 Clusters  \n",
       "0                   30.544935  \n",
       "1                   30.484362  \n",
       "2                   30.559330  \n",
       "3                   30.498756  \n",
       "4                   30.425735  \n",
       "\n",
       "[5 rows x 31 columns]"
      ]
     },
     "execution_count": 46,
     "metadata": {},
     "output_type": "execute_result"
    }
   ],
   "source": [
    "data.head()"
   ]
  },
  {
   "cell_type": "markdown",
   "id": "7fa8a3f5",
   "metadata": {},
   "source": [
    "# Save in Excel File"
   ]
  },
  {
   "cell_type": "code",
   "execution_count": 47,
   "id": "04471e12",
   "metadata": {},
   "outputs": [],
   "source": [
    "# create a excel writer object\n",
    "with pd.ExcelWriter(\"../output/7dmax mean.xlsx\") as writer:\n",
    "   \n",
    "    # use to_excel function and specify the sheet_name and index \n",
    "    # to store the dataframe in specified sheet\n",
    "    data.to_excel(writer, sheet_name=\"Global Model\", index=False)\n",
    "    emperical_model.to_excel(writer, sheet_name=\"Emperical Model\", index=False)\n",
    "    state_model.to_excel(writer, sheet_name=\"State Wise Model\", index=False)\n",
    "    for i in range (5, 16):\n",
    "        cluster_model[i].to_excel(writer, sheet_name=f\"Cluster Model with {i}\", index=False)"
   ]
  },
  {
   "cell_type": "markdown",
   "id": "b023e2c9",
   "metadata": {},
   "source": [
    "# Predict the cluster for a new point "
   ]
  },
  {
   "cell_type": "code",
   "execution_count": 48,
   "id": "5b9a36cb",
   "metadata": {},
   "outputs": [],
   "source": [
    "# new_point = np.array([[75.9,14.7]])\n",
    "# predicted_cluster = kmeans.predict(new_point)\n",
    "\n",
    "# print(f\"The predicted cluster for the new point is: {predicted_cluster[0]}\")"
   ]
  },
  {
   "cell_type": "code",
   "execution_count": null,
   "id": "21c35705",
   "metadata": {},
   "outputs": [],
   "source": []
  }
 ],
 "metadata": {
  "kernelspec": {
   "display_name": "Python 3 (ipykernel)",
   "language": "python",
   "name": "python3"
  },
  "language_info": {
   "codemirror_mode": {
    "name": "ipython",
    "version": 3
   },
   "file_extension": ".py",
   "mimetype": "text/x-python",
   "name": "python",
   "nbconvert_exporter": "python",
   "pygments_lexer": "ipython3",
   "version": "3.10.9"
  }
 },
 "nbformat": 4,
 "nbformat_minor": 5
}
